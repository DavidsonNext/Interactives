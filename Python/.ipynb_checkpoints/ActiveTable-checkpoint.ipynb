{
 "cells": [
  {
   "cell_type": "markdown",
   "metadata": {},
   "source": [
    "####Class for Active Tables"
   ]
  },
  {
   "cell_type": "code",
   "execution_count": 10,
   "metadata": {
    "collapsed": true
   },
   "outputs": [],
   "source": [
    "import pandas as pd\n",
    "pd.options.display.max_colwidth = 200"
   ]
  },
  {
   "cell_type": "code",
   "execution_count": 11,
   "metadata": {
    "collapsed": true
   },
   "outputs": [],
   "source": [
    "class ActivteTable:\n",
    "    def __init__(self):\n",
    "        return None\n",
    "    \n",
    "    ### Pandas \"to_html\" does not have an \"id\" \n",
    "    def df_to_html_with_id(self,df, id, *args, **kwargs):\n",
    "        '''\n",
    "        Pandas \"to_html\" does not allow assignment of an \"id\".\n",
    "        This function adds an \"id\"; adapted from kwarg https://github.com/pydata/pandas/issues/8496\n",
    "        '''\n",
    "        s = df.to_html(*args, **kwargs)\n",
    "        return s[:7] + 'id=\"%s\" ' % id + s[7:]\n",
    "\n",
    "    def create(self,tableBody,header):\n",
    "        '''\n",
    "        Utilizes Pandas to creaet an html table from a DataFrame.\n",
    "        Parameters\n",
    "        ----------\n",
    "        questionTable: 2D list\n",
    "        header: column names\n",
    "\n",
    "        Example\n",
    "        ----------\n",
    "        questionTable = [ ['A','B','C'], [1,2,3], ['First','Second','Third'] ]\n",
    "\n",
    "        ActiveTable.create(questionTable[1::][:],questionTable[0][:])\n",
    "        '''\n",
    "        active_table = pd.DataFrame(data=tableBody,columns=header)\n",
    "        \n",
    "        ### Code for creating input cells - also used for creation of the responseTable\n",
    "        for col in active_table.columns:\n",
    "            for row in active_table[col].index:\n",
    "                if active_table.ix[row,col] == 'NUMERIC_RESPONSE':\n",
    "                    ID = str(row)+'___'+str(col).replace(' ','')\n",
    "                    s = '<input type=\"text\" id=\"%s\" class=\"Active\" size=\"10px\" placeholder =\"input\"></input>' % (ID)\n",
    "                    active_table.ix[row,col] = s\n",
    "\n",
    "        active_table = self.df_to_html_with_id(active_table,'myActiveTable',index=False)\n",
    "        active_table = active_table.replace('&lt;','<').replace('&gt;','>')\n",
    "\n",
    "        return active_table"
   ]
  },
  {
   "cell_type": "code",
   "execution_count": null,
   "metadata": {
    "collapsed": true
   },
   "outputs": [],
   "source": []
  }
 ],
 "metadata": {
  "kernelspec": {
   "display_name": "Python 2",
   "name": "python2"
  },
  "language_info": {
   "codemirror_mode": {
    "name": "ipython",
    "version": 2
   },
   "file_extension": ".py",
   "mimetype": "text/x-python",
   "name": "python",
   "nbconvert_exporter": "python",
   "pygments_lexer": "ipython2",
   "version": "2.7.9"
  }
 },
 "nbformat": 4,
 "nbformat_minor": 0
}