{
 "cells": [
  {
   "cell_type": "markdown",
   "metadata": {
    "collapsed": false
   },
   "source": [
    "#### Torque Experiment\n",
    "https://studio.edge.edx.org/container/i4x://DavidsonX/APPY003/vertical/4b24278bd4814da8856c45056c11448b"
   ]
  },
  {
   "cell_type": "markdown",
   "metadata": {},
   "source": [
    "#### Create the HTML Table using Python's Pandas Library\n",
    "Two cells below are only for initial generation of the Active Table. The table is saved to file, then referenced in the following cells."
   ]
  },
  {
   "cell_type": "code",
   "execution_count": 1,
   "metadata": {
    "collapsed": true
   },
   "outputs": [],
   "source": [
    "import sys\n",
    "import pandas as pd\n",
    "pd.options.display.max_colwidth = 200\n",
    "sys.path.insert(0, '../../Python')\n",
    "import ActiveTable\n",
    "\n",
    "ACTIVETABLE_HTML_FILENAME = 'Rotational_LC3_HOA1_plotting_ActiveTable.html'"
   ]
  },
  {
   "cell_type": "code",
   "execution_count": 2,
   "metadata": {
    "collapsed": false
   },
   "outputs": [],
   "source": [
    "### Active Table\n",
    "Numeric = 'NUMERIC_RESPONSE'\n",
    "questionTable = [\n",
    "        ['Mass of Falling Object<br>M(kg)','Distance Object Fall<br>D(m)',\n",
    "         'Times for Fall<br>t(s)','Calculated Average Acceleration of Falling Object<br>a(m/s^2)',\n",
    "         'Calculated Tension in String<br>T(N)', 'Calculated Torque Exerted on Post of Apparatus<br>T*D(m*N)'],\n",
    "        ['0.100','0.500','9.7, 10.0, 10.3','0.010',Numeric,Numeric],\n",
    "        ['0.150','0.500','6.9, 7.1, 7.3','0.020',Numeric,Numeric],\n",
    "        ['0.200','0.500','5.8, 5.7, 5.6','0.031',Numeric,Numeric],\n",
    "        ['0.250','0.500','4.9, 4.9, 4.8','0.042',Numeric,Numeric],\n",
    "    ]\n",
    "\n",
    "responseTable = questionTable\n",
    "\n",
    "answerTable = [\n",
    "        ['Mass of Falling Object<br>M(kg)','Distance Object Fall<br>D(m)',\n",
    "         'Times for Fall<br>t(s)','Calculated Average Acceleration of Falling Object<br>a(m/s^2)',\n",
    "         'Calculated Tension in String<br>T(N)', 'Calculated Torque Exerted on Post of Apparatus<br>T*D(m*N)'],\n",
    "        ['0.100','0.500','9.7, 10.0, 10.3','0.010',0.96,0.0011],\n",
    "        ['0.150','0.500','6.9, 7.1, 7.3','0.020',1.47,0.0016],\n",
    "        ['0.200','0.500','5.8, 5.7, 5.6','0.031',1.95,0.0021],\n",
    "        ['0.250','0.500','4.9, 4.9, 4.8','0.042',2.44,0.0027],\n",
    "    ]\n",
    "\n",
    "# print questionTable[0][:]\n",
    "\n",
    "AT = ActiveTable.ActivteTable().create(questionTable[1::][:],questionTable[0][:])\n",
    "\n",
    "with open(ACTIVETABLE_HTML_FILENAME,'w') as hfile:\n",
    "    hfile.write(AT)\n",
    "# print AT"
   ]
  },
  {
   "cell_type": "markdown",
   "metadata": {},
   "source": [
    "### HTML \n",
    "Below is the main HTML file. We piece together CSS, JS, and external resources from alternate files."
   ]
  },
  {
   "cell_type": "code",
   "execution_count": 5,
   "metadata": {
    "collapsed": false
   },
   "outputs": [
    {
     "data": {
      "text/html": [
       "<!DOCTYPE html>\n",
       "<html>\n",
       "    <head>\n",
       "        <meta charset=\"UTF-8\">\n",
       "        <title>Momentum Activity</title>\n",
       "        <link href=\"Rotational_LC3_HOA1_plotting.css\" rel=\"stylesheet\" type=\"text/css\">\n",
       "        <script type=\"text/javascript\" src=\"https://cdn.mathjax.org/mathjax/latest/MathJax.js?config=AM_HTMLorMML-full\"></script>\n",
       "        <script type=\"text/javascript\" src=\"https://cdnjs.cloudflare.com/ajax/libs/jsxgraph/0.98/jsxgraphcore.js\"></script>\n",
       "        <script type=\"text/javascript\" src=\"https://code.jquery.com/jquery.min.js\"></script>\n",
       "        \n",
       "        <script> \n",
       "        $(function(){\n",
       "          $(\"#ActiveTable\").load(\"Rotational_LC3_HOA1_plotting_ActiveTable.html\"); \n",
       "        });\n",
       "        </script> \n",
       "        \n",
       "    </head>\n",
       "\n",
       "    <body>\n",
       "        <script type=\"text/javascript\" src=\"Rotational_LC3_HOA1_plotting.js\"></script>\n",
       "        <div id='jxgbox1' class='jxgbox' style='width:500px; height:400px; float:left; border: solid #1f628d 2px;'></div>        \n",
       "        <div id=\"ActiveTable\"></div>\n",
       "        \n",
       "        <!--START-BUTTON FOR PASS STATE-->\n",
       "        <input class=\"btn\" type=\"button\" value=\"Pass State for Grading\" onClick=\"getState()\">\n",
       "        <div id=\"spaceBelow\">State:</div>\n",
       "        <!--END-BUTTON FOR PASS STATE-->\n",
       "        \n",
       "        <input class=\"btn\" type=\"button\" value=\"Plot Data\" onClick=\"points = plotData()\">\n",
       "        <input class=\"btn\" type=\"button\" value=\"Clear Board\" onClick=\"brd1 = initBoard()\">\n",
       "        <input class=\"btn\" type=\"button\" value=\"Best Fit Line\" onClick=\"toggleFitLine\">\n",
       "    </body>\n",
       "</html>"
      ],
      "text/plain": [
       "<IPython.core.display.HTML object>"
      ]
     },
     "metadata": {},
     "output_type": "display_data"
    }
   ],
   "source": [
    "%%HTML\n",
    "<!DOCTYPE html>\n",
    "<html>\n",
    "    <head>\n",
    "        <meta charset=\"UTF-8\">\n",
    "        <title>Momentum Activity</title>\n",
    "        <link href=\"Rotational_LC3_HOA1_plotting.css\" rel=\"stylesheet\" type=\"text/css\">\n",
    "        <script type=\"text/javascript\" src=\"https://cdn.mathjax.org/mathjax/latest/MathJax.js?config=AM_HTMLorMML-full\"></script>\n",
    "        <script type=\"text/javascript\" src=\"https://cdnjs.cloudflare.com/ajax/libs/jsxgraph/0.98/jsxgraphcore.js\"></script>\n",
    "        <script type=\"text/javascript\" src=\"https://code.jquery.com/jquery.min.js\"></script>\n",
    "        \n",
    "        <script> \n",
    "        $(function(){\n",
    "          $(\"#ActiveTable\").load(\"Rotational_LC3_HOA1_plotting_ActiveTable.html\"); \n",
    "        });\n",
    "        </script> \n",
    "        \n",
    "    </head>\n",
    "\n",
    "    <body>\n",
    "        <script type=\"text/javascript\" src=\"Rotational_LC3_HOA1_plotting.js\"></script>\n",
    "        <div id='jxgbox1' class='jxgbox' style='width:500px; height:400px; float:left; border: solid #1f628d 2px;'></div>        \n",
    "        <div id=\"ActiveTable\"></div>\n",
    "        \n",
    "        <!--START-BUTTON FOR PASS STATE-->\n",
    "        <input class=\"btn\" type=\"button\" value=\"Pass State for Grading\" onClick=\"getState()\">\n",
    "        <div id=\"spaceBelow\">State:</div>\n",
    "        <!--END-BUTTON FOR PASS STATE-->\n",
    "        \n",
    "        <input class=\"btn\" type=\"button\" value=\"Plot Data\" onClick=\"points = plotData()\">\n",
    "        <input class=\"btn\" type=\"button\" value=\"Clear Board\" onClick=\"brd1 = initBoard()\">\n",
    "        <input class=\"btn\" type=\"button\" value=\"Best Fit Line\" onClick=\"toggleFitLine\">\n",
    "    </body>\n",
    "</html>"
   ]
  },
  {
   "cell_type": "code",
   "execution_count": 6,
   "metadata": {
    "collapsed": false
   },
   "outputs": [
    {
     "name": "stdout",
     "output_type": "stream",
     "text": [
      "\n",
      "<!DOCTYPE html>\n",
      "<html>\n",
      "    <head>\n",
      "        <meta charset=\"UTF-8\">\n",
      "        <title>Momentum Activity</title>\n",
      "        <link href=\"Rotational_LC3_HOA1_plotting.css\" rel=\"stylesheet\" type=\"text/css\">\n",
      "        <script type=\"text/javascript\" src=\"https://cdn.mathjax.org/mathjax/latest/MathJax.js?config=AM_HTMLorMML-full\"></script>\n",
      "        <script type=\"text/javascript\" src=\"https://cdnjs.cloudflare.com/ajax/libs/jsxgraph/0.98/jsxgraphcore.js\"></script>\n",
      "        <script type=\"text/javascript\" src=\"https://code.jquery.com/jquery.min.js\"></script>\n",
      "        \n",
      "        <script> \n",
      "        $(function(){\n",
      "          $(\"#ActiveTable\").load(\"Rotational_LC3_HOA1_plotting_ActiveTable.html\"); \n",
      "        });\n",
      "        </script> \n",
      "        \n",
      "    </head>\n",
      "\n",
      "    <body>\n",
      "        <script type=\"text/javascript\" src=\"Rotational_LC3_HOA1_plotting.js\"></script>\n",
      "        <div id='jxgbox1' class='jxgbox' style='width:500px; height:400px; float:left; border: solid #1f628d 2px;'></div>        \n",
      "        <div id=\"ActiveTable\"></div>\n",
      "        \n",
      "        \n",
      "        \n",
      "        <input class=\"btn\" type=\"button\" value=\"Plot Data\" onClick=\"points = plotData()\">\n",
      "        <input class=\"btn\" type=\"button\" value=\"Clear Board\" onClick=\"brd1 = initBoard()\">\n",
      "        <input class=\"btn\" type=\"button\" value=\"Best Fit Line\" onClick=\"toggleFitLine\">\n",
      "    </body>\n",
      "</html>\n"
     ]
    }
   ],
   "source": [
    "import re\n",
    "\n",
    "index_htmlinput = [ i for i,x in enumerate(_ih) if \"run_cell_magic(u'HTML'\" in x and \"re.sub('%%HTML','',tmpfile)\" not in x]\n",
    "tmpfile = eval('_i%d' % int(index_htmlinput[-1]))\n",
    "tmpfile = re.sub('%%HTML','',tmpfile)\n",
    "tmpfile = re.sub(r'<!--START-BUTTON FOR PASS STATE(.*?)END-BUTTON FOR PASS STATE-->','',tmpfile,flags=re.DOTALL)\n",
    "\n",
    "html_filename = 'Rotational_LC3_HOA1_plotting.html'\n",
    "with open(html_filename,'w') as hfile:\n",
    "    hfile.write(tmpfile)\n",
    "\n",
    "print tmpfile"
   ]
  },
  {
   "cell_type": "code",
   "execution_count": null,
   "metadata": {
    "collapsed": true
   },
   "outputs": [],
   "source": []
  },
  {
   "cell_type": "markdown",
   "metadata": {},
   "source": [
    "## Grader"
   ]
  },
  {
   "cell_type": "code",
   "execution_count": 10,
   "metadata": {
    "collapsed": false
   },
   "outputs": [
    {
     "name": "stdout",
     "output_type": "stream",
     "text": [
      "{'msg': 'You have 0 cells out of 8 correct.', 'ok': False}\n"
     ]
    }
   ],
   "source": [
    "import json        \n",
    "def grader(e, ans):\n",
    "    state = json.loads(ans)#['answer']\n",
    "    response = state['response']\n",
    "    colors = state['colors']\n",
    "    #return {'ok': False, 'msg': '%s' % str(response)}\n",
    "    \n",
    "    Numeric = 'NUMERIC_RESPONSE'\n",
    "    questionTable = [\n",
    "        ['Mass of Falling Object<br>M(kg)','Distance Object Fall<br>D(m)',\n",
    "         'Times for Fall<br>t(s)','Calculated Average Acceleration of Falling Object<br>a(m/s^2)',\n",
    "         'Calculated Tension in String<br>T(N)', 'Calculated Torque Exerted on Post of Apparatus<br>T*D(m*N)'],\n",
    "        ['0.100','0.500','9.7, 10.0, 10.3','0.010',Numeric,Numeric],\n",
    "        ['0.150','0.500','6.9, 7.1, 7.3','0.020',Numeric,Numeric],\n",
    "        ['0.200','0.500','5.8, 5.7, 5.6','0.031',Numeric,Numeric],\n",
    "        ['0.250','0.500','4.9, 4.9, 4.8','0.042',Numeric,Numeric],\n",
    "    ]\n",
    "\n",
    "    answerTable = [\n",
    "        ['Mass of Falling Object<br>M(kg)','Distance Object Fall<br>D(m)',\n",
    "         'Times for Fall<br>t(s)','Calculated Average Acceleration of Falling Object<br>a(m/s^2)',\n",
    "         'Calculated Tension in String<br>T(N)', 'Calculated Torque Exerted on Post of Apparatus<br>T*D(m*N)'],\n",
    "        ['0.100','0.500','9.7, 10.0, 10.3','0.010',0.96,0.0011],\n",
    "        ['0.150','0.500','6.9, 7.1, 7.3','0.020',1.47,0.0016],\n",
    "        ['0.200','0.500','5.8, 5.7, 5.6','0.031',1.95,0.0021],\n",
    "        ['0.250','0.500','4.9, 4.9, 4.8','0.042',2.44,0.0027],\n",
    "    ]\n",
    "    \n",
    "    ### Must remove header for comparison in loop below\n",
    "    ### JQuery takes cells without a header, so i,j values must only be fore table body.\n",
    "    answerTable = answerTable[1::]\n",
    "\n",
    "    def stringComparison(R,K):\n",
    "        '''\n",
    "        R: Response from student\n",
    "        K: Answer from (K)ey\n",
    "        '''\n",
    "        if str(R)==str(K):\n",
    "            return True\n",
    "        else:\n",
    "            return False\n",
    "    \n",
    "    def testNumeric(X):\n",
    "        '''\n",
    "        X: entry taken from Active Table\n",
    "        '''\n",
    "        try:\n",
    "            float(X)\n",
    "            return True\n",
    "        except:\n",
    "            return False\n",
    "    \n",
    "    def numericalComparison(R,K,**kwargs):\n",
    "        '''\n",
    "        R: Response from student \n",
    "        K: Answer from (K)ey\n",
    "        tolerance: percentage tolerance allowed in numerical response\n",
    "            *** Implement edX tolerance: https://github.com/edx/edx-platform/blob/dbc465a51871bd685dd925c23bf73b981e07abe6/common/lib/capa/capa/util.py#L14\n",
    "            Currently Calculated:  return 100.*abs(student - instructor)/instructor <= tolerance\n",
    "        '''\n",
    "        percent_tolerance = kwargs.get('percent_tolerance',1.0)\n",
    "        \n",
    "        if testNumeric(R) and testNumeric(K):\n",
    "            return 100.*abs(float(R) - float(K))/float(K) <= percent_tolerance\n",
    "        else:\n",
    "            #print \"Issue with grading rubric. Could not convert Response to float.\"\n",
    "            return False\n",
    "    \n",
    "    def returnID(row,column):\n",
    "        return str(row)+'___'+str(column).replace(' ','')\n",
    "    \n",
    "    def feedback(cellType,R,K):\n",
    "        '''\n",
    "        cellType: type of cell input, options are [NUMERIC_RESPONSE,STRING_RESPONSE]\n",
    "        R: short-hand for student Response Value\n",
    "        K: short-hand for answer Key Value\n",
    "        '''\n",
    "        if cellType == 'NUMERIC_RESPONSE':\n",
    "            return numericalComparison(R,K,percent_tolerance=5.0)\n",
    "            #return stringComparison(R,K)\n",
    "        elif cellType == 'STRING_RESPONSE':\n",
    "            return stringComparison(R,K)\n",
    "                \n",
    "    \n",
    "    ### Loop through question Table and use indices to check answer table\n",
    "    header = questionTable[0]\n",
    "    numCorrects = 0\n",
    "    for i,row in enumerate(questionTable[1::]):\n",
    "        for j,cellType in enumerate(row):\n",
    "            ID = returnID(i,header[j])\n",
    "            #print i,j,header[j],ID,answerTable[i][j]\n",
    "            \n",
    "            ### Check for Existent Active Cell\n",
    "            if ID in response:\n",
    "                ### Compare answer key and contents of cell\n",
    "                if feedback(cellType, response[ID], answerTable[i][j]):\n",
    "                    numCorrects = numCorrects + 1\n",
    "                else:\n",
    "                    state['colors'][ID] = 'LightPink'\n",
    "    \n",
    "    if numCorrects == len(response.keys()):\n",
    "        return {'ok': True, 'msg':'Great job!'}\n",
    "    else:\n",
    "        return {'ok': False, 'msg': 'You have %s cells out of %s correct.' % (str(numCorrects),str(len(response.keys()))) }\n",
    "\n",
    "print grader('what',state)"
   ]
  },
  {
   "cell_type": "code",
   "execution_count": null,
   "metadata": {
    "collapsed": true
   },
   "outputs": [],
   "source": []
  }
 ],
 "metadata": {
  "kernelspec": {
   "display_name": "Python 2",
   "language": "python",
   "name": "python2"
  },
  "language_info": {
   "codemirror_mode": {
    "name": "ipython",
    "version": 2
   },
   "file_extension": ".py",
   "mimetype": "text/x-python",
   "name": "python",
   "nbconvert_exporter": "python",
   "pygments_lexer": "ipython2",
   "version": "2.7.3"
  }
 },
 "nbformat": 4,
 "nbformat_minor": 0
}
