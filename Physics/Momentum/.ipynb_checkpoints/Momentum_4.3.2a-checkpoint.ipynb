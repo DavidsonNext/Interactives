{
 "cells": [
  {
   "cell_type": "markdown",
   "metadata": {},
   "source": [
    "#### Momentum Hands-On Activity\n",
    "https://docs.google.com/document/d/1NBBPpMUNzLL2BL-pZbwbB8rYaJxIzQGvDUIz_KDQi0I/edit"
   ]
  },
  {
   "cell_type": "code",
   "execution_count": 13,
   "metadata": {
    "collapsed": false
   },
   "outputs": [],
   "source": [
    "import sys\n",
    "import pandas as pd\n",
    "pd.options.display.max_colwidth = 200\n",
    "sys.path.insert(0, '../../Python')\n",
    "import ActiveTable\n",
    "\n",
    "HTML_FILENAME = 'Momentum_4.3.2a.html'"
   ]
  },
  {
   "cell_type": "code",
   "execution_count": 10,
   "metadata": {
    "collapsed": false
   },
   "outputs": [
    {
     "name": "stdout",
     "output_type": "stream",
     "text": [
      "<table id=\"myActiveTable\" border=\"1\" class=\"dataframe\">\n",
      "  <thead>\n",
      "    <tr style=\"text-align: right;\">\n",
      "      <th>Mass of Falling Object<br>M(kg)</th>\n",
      "      <th>Distance Object Fall<br>D(m)</th>\n",
      "      <th>Times for Fall<br>t(s)</th>\n",
      "      <th>Calculated Average Acceleration of Falling Object<br>a(m/s^2)</th>\n",
      "      <th>Calculated Tension in String<br>T(N)</th>\n",
      "      <th>Calculated Torque Exerted on Post of Apparatus<br>T*D(m*N)</th>\n",
      "    </tr>\n",
      "  </thead>\n",
      "  <tbody>\n",
      "    <tr>\n",
      "      <td> 0.150</td>\n",
      "      <td> 0.500</td>\n",
      "      <td> 6.9, 7.1, 7.3</td>\n",
      "      <td> 0.020</td>\n",
      "      <td> <input type=\"text\" id=\"0___CalculatedTensioninString<br>T(N)\" class=\"Active\" size=\"10px\" placeholder =\"input\"></input></td>\n",
      "      <td> <input type=\"text\" id=\"0___CalculatedTorqueExertedonPostofApparatus<br>T*D(m*N)\" class=\"Active\" size=\"10px\" placeholder =\"input\"></input></td>\n",
      "    </tr>\n",
      "    <tr>\n",
      "      <td> 0.200</td>\n",
      "      <td> 0.500</td>\n",
      "      <td> 5.8, 5.7, 5.6</td>\n",
      "      <td> 0.031</td>\n",
      "      <td> <input type=\"text\" id=\"1___CalculatedTensioninString<br>T(N)\" class=\"Active\" size=\"10px\" placeholder =\"input\"></input></td>\n",
      "      <td> <input type=\"text\" id=\"1___CalculatedTorqueExertedonPostofApparatus<br>T*D(m*N)\" class=\"Active\" size=\"10px\" placeholder =\"input\"></input></td>\n",
      "    </tr>\n",
      "    <tr>\n",
      "      <td> 0.250</td>\n",
      "      <td> 0.500</td>\n",
      "      <td> 4.9, 4.9, 4.8</td>\n",
      "      <td> 0.042</td>\n",
      "      <td> <input type=\"text\" id=\"2___CalculatedTensioninString<br>T(N)\" class=\"Active\" size=\"10px\" placeholder =\"input\"></input></td>\n",
      "      <td> <input type=\"text\" id=\"2___CalculatedTorqueExertedonPostofApparatus<br>T*D(m*N)\" class=\"Active\" size=\"10px\" placeholder =\"input\"></input></td>\n",
      "    </tr>\n",
      "  </tbody>\n",
      "</table>\n"
     ]
    }
   ],
   "source": [
    "reload(ActiveTable)\n",
    "\n",
    "### Active Table\n",
    "Numeric = 'NUMERIC_RESPONSE'\n",
    "questionTable = [\n",
    "        ['Mass of Falling Object<br>M(kg)','Distance Object Fall<br>D(m)',\n",
    "         'Times for Fall<br>t(s)','Calculated Average Acceleration of Falling Object<br>a(m/s^2)',\n",
    "         'Calculated Tension in String<br>T(N)', 'Calculated Torque Exerted on Post of Apparatus<br>T*D(m*N)'],\n",
    "        ['0.100','0.500','9.7, 10.0, 10.3','0.010',Numeric,Numeric],\n",
    "        ['0.150','0.500','6.9, 7.1, 7.3','0.020',Numeric,Numeric],\n",
    "        ['0.200','0.500','5.8, 5.7, 5.6','0.031',Numeric,Numeric],\n",
    "        ['0.250','0.500','4.9, 4.9, 4.8','0.042',Numeric,Numeric],\n",
    "    ]\n",
    "\n",
    "responseTable = questionTable\n",
    "\n",
    "answerTable = [\n",
    "        ['Mass of Falling Object<br>M(kg)','Distance Object Fall<br>D(m)',\n",
    "         'Times for Fall<br>t(s)','Calculated Average Acceleration of Falling Object<br>a(m/s^2)',\n",
    "         'Calculated Tension in String<br>T(N)', 'Calculated Torque Exerted on Post of Apparatus<br>T*D(m*N)'],\n",
    "        ['0.100','0.500','9.7, 10.0, 10.3','0.010',0.96,0.0011],\n",
    "        ['0.150','0.500','6.9, 7.1, 7.3','0.020',1.47,0.0016],\n",
    "        ['0.200','0.500','5.8, 5.7, 5.6','0.031',1.95,0.0021],\n",
    "        ['0.250','0.500','4.9, 4.9, 4.8','0.042',2.44,0.0027],\n",
    "    ]\n",
    "\n",
    "AT = ActiveTable.ActivteTable()\n",
    "# print AT.create(questionTable[1::][:],questionTable[0][:])\n",
    "\n",
    "with open(HTML_FILENAME,'w') as hfile:\n",
    "    hfile.write(tmpfile)\n",
    "print tmpfile"
   ]
  },
  {
   "cell_type": "code",
   "execution_count": null,
   "metadata": {
    "collapsed": true
   },
   "outputs": [],
   "source": [
    "\n"
   ]
  }
 ],
 "metadata": {
  "kernelspec": {
   "display_name": "Python 2",
   "name": "python2"
  },
  "language_info": {
   "codemirror_mode": {
    "name": "ipython",
    "version": 2
   },
   "file_extension": ".py",
   "mimetype": "text/x-python",
   "name": "python",
   "nbconvert_exporter": "python",
   "pygments_lexer": "ipython2",
   "version": "2.7.9"
  }
 },
 "nbformat": 4,
 "nbformat_minor": 0
}