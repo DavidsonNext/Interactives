{
 "cells": [
  {
   "cell_type": "markdown",
   "metadata": {},
   "source": [
    "#### Momentum Hands-On Activity\n",
    "https://docs.google.com/document/d/1NBBPpMUNzLL2BL-pZbwbB8rYaJxIzQGvDUIz_KDQi0I/edit"
   ]
  },
  {
   "cell_type": "code",
   "execution_count": 25,
   "metadata": {
    "collapsed": false
   },
   "outputs": [],
   "source": [
    "import sys\n",
    "import pandas as pd\n",
    "pd.options.display.max_colwidth = 200\n",
    "sys.path.insert(0, '../../Python')\n",
    "import ActiveTable\n",
    "\n",
    "HTML_FILENAME = 'Momentum_4.3.2a.html'"
   ]
  },
  {
   "cell_type": "code",
   "execution_count": 42,
   "metadata": {
    "collapsed": false
   },
   "outputs": [
    {
     "name": "stdout",
     "output_type": "stream",
     "text": [
      "['Carts', '$$v_initial$$', '$$v_final$$', '$$\\\\Delta v$$']\n",
      "<table id=\"myActiveTable\" border=\"1\" class=\"dataframe\">\n",
      "  <thead>\n",
      "    <tr style=\"text-align: right;\">\n",
      "      <th>Carts</th>\n",
      "      <th>$$v_initial$$</th>\n",
      "      <th>$$v_final$$</th>\n",
      "      <th>$$\\Delta v$$</th>\n",
      "    </tr>\n",
      "  </thead>\n",
      "  <tbody>\n",
      "    <tr>\n",
      "      <td> green</td>\n",
      "      <td>  2.0</td>\n",
      "      <td> -1.2</td>\n",
      "      <td> <input type=\"text\" id=\"0___$$\\Deltav$$\" class=\"Active\" size=\"10px\" placeholder =\"input\"></input></td>\n",
      "    </tr>\n",
      "    <tr>\n",
      "      <td>   red</td>\n",
      "      <td> -2.0</td>\n",
      "      <td>  1.2</td>\n",
      "      <td> <input type=\"text\" id=\"1___$$\\Deltav$$\" class=\"Active\" size=\"10px\" placeholder =\"input\"></input></td>\n",
      "    </tr>\n",
      "  </tbody>\n",
      "</table>\n"
     ]
    }
   ],
   "source": [
    "reload(ActiveTable)\n",
    "\n",
    "### Active Table\n",
    "Numeric = 'NUMERIC_RESPONSE'\n",
    "questionTable = [\n",
    "        ['Carts','$$v_initial$$','$$v_final$$','$$\\Delta v$$'],\n",
    "        ['green','2.0','-1.2',Numeric],\n",
    "        ['red','-2.0','1.2',Numeric],\n",
    "    ]\n",
    "\n",
    "answerTable = [\n",
    "        ['Carts','$$v_initial$$','$$v_final$$','$$\\Delta v$$'],\n",
    "        ['green','2.0','-1.2','-3.2'],\n",
    "        ['red','-2.0','1.2','0.8'],\n",
    "    ]\n",
    "\n",
    "print questionTable[0][:]\n",
    "\n",
    "AT = ActiveTable.ActivteTable().create(questionTable[1::][:],questionTable[0][:])\n",
    "\n",
    "with open(HTML_FILENAME,'w') as hfile:\n",
    "    hfile.write(AT)\n",
    "print AT"
   ]
  },
  {
   "cell_type": "code",
   "execution_count": 41,
   "metadata": {
    "collapsed": false
   },
   "outputs": [
    {
     "data": {
      "text/html": [
       "<!DOCTYPE html>\n",
       "<html>\n",
       "    <head>\n",
       "        <meta charset=\"UTF-8\">\n",
       "        <title>Momentum Activity</title>\n",
       "        <link href=\"Momentum_4.3.2a.css\" rel=\"stylesheet\" type=\"text/css\">\n",
       "        <script type=\"text/javascript\" src=\"https://cdn.mathjax.org/mathjax/latest/MathJax.js?config=AM_HTMLorMML-full\"></script>\n",
       "        <script type=\"text/javascript\" src=\"https://cdnjs.cloudflare.com/ajax/libs/jsxgraph/0.98/jsxgraphcore.js\"></script>\n",
       "        <script type=\"text/javascript\" src=\"https://code.jquery.com/jquery.min.js\"></script>\n",
       "        \n",
       "        <script> \n",
       "        $(function(){\n",
       "          $(\"#ActiveTable\").load(\"Momentum_4.3.2a.html\"); \n",
       "        });\n",
       "        </script> \n",
       "        \n",
       "    </head>\n",
       "\n",
       "    <body>\n",
       "        <div id=\"ActiveTable\"></div>\n",
       "    </body>\n",
       "</html>"
      ],
      "text/plain": [
       "<IPython.core.display.HTML object>"
      ]
     },
     "metadata": {},
     "output_type": "display_data"
    }
   ],
   "source": [
    "%%HTML\n",
    "<!DOCTYPE html>\n",
    "<html>\n",
    "    <head>\n",
    "        <meta charset=\"UTF-8\">\n",
    "        <title>Momentum Activity</title>\n",
    "        <link href=\"Momentum_4.3.2a.css\" rel=\"stylesheet\" type=\"text/css\">\n",
    "        <script type=\"text/javascript\" src=\"https://cdn.mathjax.org/mathjax/latest/MathJax.js?config=AM_HTMLorMML-full\"></script>\n",
    "        <script type=\"text/javascript\" src=\"https://cdnjs.cloudflare.com/ajax/libs/jsxgraph/0.98/jsxgraphcore.js\"></script>\n",
    "        <script type=\"text/javascript\" src=\"https://code.jquery.com/jquery.min.js\"></script>\n",
    "        \n",
    "        <script> \n",
    "        $(function(){\n",
    "          $(\"#ActiveTable\").load(\"Momentum_4.3.2a.html\"); \n",
    "        });\n",
    "        </script> \n",
    "        \n",
    "    </head>\n",
    "\n",
    "    <body>\n",
    "        <div id=\"ActiveTable\"></div>\n",
    "    </body>\n",
    "</html>\n"
   ]
  },
  {
   "cell_type": "code",
   "execution_count": null,
   "metadata": {
    "collapsed": true
   },
   "outputs": [],
   "source": []
  }
 ],
 "metadata": {
  "kernelspec": {
   "display_name": "Python 2",
   "name": "python2"
  },
  "language_info": {
   "codemirror_mode": {
    "name": "ipython",
    "version": 2
   },
   "file_extension": ".py",
   "mimetype": "text/x-python",
   "name": "python",
   "nbconvert_exporter": "python",
   "pygments_lexer": "ipython2",
   "version": "2.7.9"
  }
 },
 "nbformat": 4,
 "nbformat_minor": 0
}