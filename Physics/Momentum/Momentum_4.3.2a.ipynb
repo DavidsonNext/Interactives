{
 "cells": [
  {
   "cell_type": "markdown",
   "metadata": {},
   "source": [
    "#### Momentum Hands-On Activity\n",
    "https://docs.google.com/document/d/1NBBPpMUNzLL2BL-pZbwbB8rYaJxIzQGvDUIz_KDQi0I/edit"
   ]
  },
  {
   "cell_type": "markdown",
   "metadata": {},
   "source": [
    "### Active Table using Python's Pandas\n",
    "An Active Table is simply an html table with editable cells. We want to provide data entry tools in a spreadsheet like format. Below is the first iteration of this functionality.\n",
    "\n",
    "Pandas is a data analysis tool for Python whose data are stored in dataframes - spreadsheet like data structures with references to rows and columns. The power of Pandas is the ability to export dataframes, one option which is \"to_html\". We use this feature to quickly create html tables with custom elements."
   ]
  },
  {
   "cell_type": "code",
   "execution_count": 1,
   "metadata": {
    "collapsed": false
   },
   "outputs": [],
   "source": [
    "import sys\n",
    "import pandas as pd\n",
    "pd.options.display.max_colwidth = 200\n",
    "sys.path.insert(0, '../../Python')\n",
    "import ActiveTable\n",
    "\n",
    "ACTIVETABLE_HTML_FILENAME = 'ActiveTable_Momentum_4.3.2a.html'"
   ]
  },
  {
   "cell_type": "code",
   "execution_count": 2,
   "metadata": {
    "collapsed": false
   },
   "outputs": [
    {
     "name": "stdout",
     "output_type": "stream",
     "text": [
      "['Carts', 'v_initial', 'v_final', 'Delta v']\n",
      "<table id=\"myActiveTable\" border=\"1\" class=\"dataframe\">\n",
      "  <thead>\n",
      "    <tr style=\"text-align: right;\">\n",
      "      <th>Carts</th>\n",
      "      <th>v_initial</th>\n",
      "      <th>v_final</th>\n",
      "      <th>Delta v</th>\n",
      "    </tr>\n",
      "  </thead>\n",
      "  <tbody>\n",
      "    <tr>\n",
      "      <td> green</td>\n",
      "      <td>  2.0</td>\n",
      "      <td> -1.2</td>\n",
      "      <td> <input type=\"text\" id=\"0___Deltav\" class=\"Active\" size=\"10px\" placeholder =\"input\"></input></td>\n",
      "    </tr>\n",
      "    <tr>\n",
      "      <td>   red</td>\n",
      "      <td> -2.0</td>\n",
      "      <td>  1.2</td>\n",
      "      <td> <input type=\"text\" id=\"1___Deltav\" class=\"Active\" size=\"10px\" placeholder =\"input\"></input></td>\n",
      "    </tr>\n",
      "  </tbody>\n",
      "</table>\n"
     ]
    }
   ],
   "source": [
    "reload(ActiveTable)\n",
    "\n",
    "### Active Table\n",
    "Numeric = 'NUMERIC_RESPONSE'\n",
    "questionTable = [\n",
    "        ['Carts','v_initial','v_final','Delta v'],\n",
    "        ['green','2.0','-1.2',Numeric],\n",
    "        ['red','-2.0','1.2',Numeric],\n",
    "    ]\n",
    "\n",
    "answerTable = [\n",
    "        ['Carts','v_initial','v_final','Delta v'],\n",
    "        ['green','2.0','-1.2','-3.2'],\n",
    "        ['red','-2.0','1.2','3.2'],\n",
    "    ]\n",
    "\n",
    "print questionTable[0][:]\n",
    "\n",
    "AT = ActiveTable.ActivteTable().create(questionTable[1::][:],questionTable[0][:])\n",
    "\n",
    "with open(ACTIVETABLE_HTML_FILENAME,'w') as hfile:\n",
    "    hfile.write(AT)\n",
    "print AT"
   ]
  },
  {
   "cell_type": "markdown",
   "metadata": {},
   "source": [
    "### HTML \n",
    "Below is the main HTML file. We piece together CSS, JS, and external resources from alternate files."
   ]
  },
  {
   "cell_type": "code",
   "execution_count": 3,
   "metadata": {
    "collapsed": false
   },
   "outputs": [
    {
     "data": {
      "text/html": [
       "<!DOCTYPE html>\n",
       "<html>\n",
       "    <head>\n",
       "        <meta charset=\"UTF-8\">\n",
       "        <title>Momentum Activity</title>\n",
       "        <link href=\"Momentum_4.3.2a.css\" rel=\"stylesheet\" type=\"text/css\">\n",
       "        <script type=\"text/javascript\" src=\"https://cdn.mathjax.org/mathjax/latest/MathJax.js?config=AM_HTMLorMML-full\"></script>\n",
       "        <script type=\"text/javascript\" src=\"https://cdnjs.cloudflare.com/ajax/libs/jsxgraph/0.98/jsxgraphcore.js\"></script>\n",
       "        <script type=\"text/javascript\" src=\"https://code.jquery.com/jquery.min.js\"></script>\n",
       "        <script type=\"text/javascript\" src=\"Momentum_4.3.2a.js\"></script>\n",
       "        \n",
       "        <script> \n",
       "        $(function(){\n",
       "          $(\"#ActiveTable\").load(\"ActiveTable_Momentum_4.3.2a.html\"); \n",
       "        });\n",
       "        </script> \n",
       "        \n",
       "    </head>\n",
       "\n",
       "    <body>\n",
       "        <div id=\"ActiveTable\"></div>\n",
       "    \n",
       "        <!--START-BUTTON FOR PASS STATE-->\n",
       "        <div id='StateGrab' style='width:350px; float:left;'>        \n",
       "            <input class=\"btn\" type=\"button\" value=\"Get State\" onClick=\"getNotebookState()\">\n",
       "            <div id=\"spaceBelow\">State:</div>\n",
       "        </div>\n",
       "        <script type=\"text/javascript\">\n",
       "            getNotebookState = function(){\n",
       "                state = getInput();\n",
       "                statestr = JSON.stringify(state);\n",
       "\n",
       "                document.getElementById('spaceBelow').innerHTML += '<br>'+statestr;\n",
       "                var command = \"state = \" + statestr;\n",
       "                console.log(command);\n",
       "\n",
       "                //Kernel\n",
       "                var kernel = IPython.notebook.kernel;\n",
       "                kernel.execute(command);\n",
       "\n",
       "                return statestr;\n",
       "            }\n",
       "        </script>\n",
       "        <!--END-BUTTON FOR PASS STATE-->\n",
       "    </body>\n",
       "</html>"
      ],
      "text/plain": [
       "<IPython.core.display.HTML object>"
      ]
     },
     "metadata": {},
     "output_type": "display_data"
    }
   ],
   "source": [
    "%%HTML\n",
    "<!DOCTYPE html>\n",
    "<html>\n",
    "    <head>\n",
    "        <meta charset=\"UTF-8\">\n",
    "        <title>Momentum Activity</title>\n",
    "        <link href=\"Momentum_4.3.2a.css\" rel=\"stylesheet\" type=\"text/css\">\n",
    "        <script type=\"text/javascript\" src=\"https://cdn.mathjax.org/mathjax/latest/MathJax.js?config=AM_HTMLorMML-full\"></script>\n",
    "        <script type=\"text/javascript\" src=\"https://cdnjs.cloudflare.com/ajax/libs/jsxgraph/0.98/jsxgraphcore.js\"></script>\n",
    "        <script type=\"text/javascript\" src=\"https://code.jquery.com/jquery.min.js\"></script>\n",
    "        <script type=\"text/javascript\" src=\"Momentum_4.3.2a.js\"></script>\n",
    "        \n",
    "        <script> \n",
    "        $(function(){\n",
    "          $(\"#ActiveTable\").load(\"ActiveTable_Momentum_4.3.2a.html\"); \n",
    "        });\n",
    "        </script> \n",
    "        \n",
    "    </head>\n",
    "\n",
    "    <body>\n",
    "        <div id=\"ActiveTable\"></div>\n",
    "    \n",
    "        <!--START-BUTTON FOR PASS STATE-->\n",
    "        <div id='StateGrab' style='width:350px; float:left;'>        \n",
    "            <input class=\"btn\" type=\"button\" value=\"Get State\" onClick=\"getNotebookState()\">\n",
    "            <div id=\"spaceBelow\">State:</div>\n",
    "        </div>\n",
    "        <script type=\"text/javascript\">\n",
    "            getNotebookState = function(){\n",
    "                state = getInput();\n",
    "                statestr = JSON.stringify(state);\n",
    "\n",
    "                document.getElementById('spaceBelow').innerHTML += '<br>'+statestr;\n",
    "                var command = \"state = \" + statestr;\n",
    "                console.log(command);\n",
    "\n",
    "                //Kernel\n",
    "                var kernel = IPython.notebook.kernel;\n",
    "                kernel.execute(command);\n",
    "\n",
    "                return statestr;\n",
    "            }\n",
    "        </script>\n",
    "        <!--END-BUTTON FOR PASS STATE-->\n",
    "    </body>\n",
    "</html>"
   ]
  },
  {
   "cell_type": "code",
   "execution_count": 4,
   "metadata": {
    "collapsed": false
   },
   "outputs": [
    {
     "name": "stdout",
     "output_type": "stream",
     "text": [
      "\n",
      "<!DOCTYPE html>\n",
      "<html>\n",
      "    <head>\n",
      "        <meta charset=\"UTF-8\">\n",
      "        <title>Momentum Activity</title>\n",
      "        <link href=\"Momentum_4.3.2a.css\" rel=\"stylesheet\" type=\"text/css\">\n",
      "        <script type=\"text/javascript\" src=\"https://cdn.mathjax.org/mathjax/latest/MathJax.js?config=AM_HTMLorMML-full\"></script>\n",
      "        <script type=\"text/javascript\" src=\"https://cdnjs.cloudflare.com/ajax/libs/jsxgraph/0.98/jsxgraphcore.js\"></script>\n",
      "        <script type=\"text/javascript\" src=\"https://code.jquery.com/jquery.min.js\"></script>\n",
      "        <script type=\"text/javascript\" src=\"Momentum_4.3.2a.js\"></script>\n",
      "        \n",
      "        <script> \n",
      "        $(function(){\n",
      "          $(\"#ActiveTable\").load(\"ActiveTable_Momentum_4.3.2a.html\"); \n",
      "        });\n",
      "        </script> \n",
      "        \n",
      "    </head>\n",
      "\n",
      "    <body>\n",
      "        <div id=\"ActiveTable\"></div>\n",
      "    \n",
      "        \n",
      "    </body>\n",
      "</html>\n"
     ]
    }
   ],
   "source": [
    "import re\n",
    "\n",
    "index_htmlinput = [ i for i,x in enumerate(_ih) if \"run_cell_magic(u'HTML'\" in x and \"re.sub('%%HTML','',tmpfile)\" not in x]\n",
    "tmpfile = eval('_i%d' % int(index_htmlinput[-1]))\n",
    "tmpfile = re.sub('%%HTML','',tmpfile)\n",
    "tmpfile = re.sub(r'<!--START-BUTTON FOR PASS STATE(.*?)END-BUTTON FOR PASS STATE-->','',tmpfile,flags=re.DOTALL)\n",
    "\n",
    "html_filename = 'Momentum_4.3.2a.html'\n",
    "with open(html_filename,'w') as hfile:\n",
    "    hfile.write(tmpfile)\n",
    "\n",
    "print tmpfile"
   ]
  },
  {
   "cell_type": "markdown",
   "metadata": {},
   "source": [
    "### Python Grading within an IPython Notebook\n",
    "IPython notebooks allow access to both HTML elements and Interactive Python. With a short command, we can pass HTML input to the IPython kernel. These commands are written in the JS code: src=\"Momentum_4.3.2a.js\""
   ]
  },
  {
   "cell_type": "code",
   "execution_count": 17,
   "metadata": {
    "collapsed": false
   },
   "outputs": [
    {
     "name": "stdout",
     "output_type": "stream",
     "text": [
      "{'msg': 'You have 1 cells out of 2 correct.', 'ok': False}\n"
     ]
    }
   ],
   "source": [
    "import json        \n",
    "def grader(e, ans):\n",
    "    state = json.loads(ans)#['answer']\n",
    "    response = state['response']\n",
    "    colors = state['colors']\n",
    "    #return {'ok': False, 'msg': '%s' % str(response)}\n",
    "    \n",
    "    Numeric = 'NUMERIC_RESPONSE'\n",
    "    questionTable = [\n",
    "        ['Carts','v_initial','v_final','Delta v'],\n",
    "        ['green','2.0','-1.2',Numeric],\n",
    "        ['red','-2.0','1.2',Numeric],\n",
    "    ]\n",
    "\n",
    "    answerTable = [\n",
    "        ['Carts','v_initial','v_final','Delta v'],\n",
    "        ['green','2.0','-1.2','-3.2'],\n",
    "        ['red','-2.0','1.2','3.2'],\n",
    "    ]\n",
    "    \n",
    "    ### Must remove header for comparison in loop below\n",
    "    ### JQuery takes cells without a header, so i,j values must only be fore table body.\n",
    "    answerTable = answerTable[1::]\n",
    "\n",
    "    def stringComparison(R,K):\n",
    "        '''\n",
    "        R: Response from student\n",
    "        K: Answer from (K)ey\n",
    "        '''\n",
    "        if str(R)==str(K):\n",
    "            return True\n",
    "        else:\n",
    "            return False\n",
    "    \n",
    "    def testNumeric(X):\n",
    "        '''\n",
    "        X: entry taken from Active Table\n",
    "        '''\n",
    "        try:\n",
    "            float(X)\n",
    "            return True\n",
    "        except:\n",
    "            return False\n",
    "    \n",
    "    def numericalComparison(R,K,**kwargs):\n",
    "        '''\n",
    "        R: Response from student \n",
    "        K: Answer from (K)ey\n",
    "        tolerance: percentage tolerance allowed in numerical response\n",
    "            *** Implement edX tolerance: https://github.com/edx/edx-platform/blob/dbc465a51871bd685dd925c23bf73b981e07abe6/common/lib/capa/capa/util.py#L14\n",
    "            Currently Calculated:  return 100.*abs(student - instructor)/instructor <= tolerance\n",
    "        '''\n",
    "        percent_tolerance = kwargs.get('percent_tolerance',1.0)\n",
    "        \n",
    "        if testNumeric(R) and testNumeric(K):\n",
    "            #print 100.*abs(abs(float(R) - float(K))/float(K))\n",
    "            return 100.*abs(abs(float(R) - float(K))/float(K)) <= percent_tolerance\n",
    "        else:\n",
    "            #print \"Issue with grading rubric. Could not convert Response to float.\"\n",
    "            return False\n",
    "    \n",
    "    def returnID(row,column):\n",
    "        return str(row)+'___'+str(column).replace(' ','')\n",
    "    \n",
    "    def feedback(cellType,R,K):\n",
    "        '''\n",
    "        cellType: type of cell input, options are [NUMERIC_RESPONSE,STRING_RESPONSE]\n",
    "        R: short-hand for student Response Value\n",
    "        K: short-hand for answer Key Value\n",
    "        '''\n",
    "        if cellType == 'NUMERIC_RESPONSE':\n",
    "            #print R,K\n",
    "            return numericalComparison(R,K,percent_tolerance=1.0)\n",
    "            #return stringComparison(R,K)\n",
    "        elif cellType == 'STRING_RESPONSE':\n",
    "            return stringComparison(R,K)\n",
    "                \n",
    "    \n",
    "    ### GRADING LOOP\n",
    "    ### Loop through question Table and use indices to check answer table\n",
    "    header = questionTable[0]\n",
    "    numCorrects = 0\n",
    "    for i,row in enumerate(questionTable[1::]):\n",
    "        for j,cellType in enumerate(row):\n",
    "            ID = returnID(i,header[j])\n",
    "            #print i,j,header[j],ID,answerTable[i][j]\n",
    "            \n",
    "            ### Check for Existent Active Cell\n",
    "            if ID in response:\n",
    "                ### Compare answer key and contents of cell\n",
    "                if feedback(cellType, response[ID], answerTable[i][j]):\n",
    "                    numCorrects = numCorrects + 1\n",
    "                else:\n",
    "                    state['colors'][ID] = 'LightPink'\n",
    "    \n",
    "    if numCorrects == len(response.keys()):\n",
    "        return {'ok': True, 'msg':'Great job!'}\n",
    "    else:\n",
    "        return {'ok': False, 'msg': 'You have %s cells out of %s correct.' % (str(numCorrects),str(len(response.keys()))) }\n",
    "\n",
    "print grader('what is this?',state)"
   ]
  },
  {
   "cell_type": "code",
   "execution_count": null,
   "metadata": {
    "collapsed": true
   },
   "outputs": [],
   "source": []
  },
  {
   "cell_type": "code",
   "execution_count": null,
   "metadata": {
    "collapsed": true
   },
   "outputs": [],
   "source": []
  },
  {
   "cell_type": "code",
   "execution_count": null,
   "metadata": {
    "collapsed": true
   },
   "outputs": [],
   "source": []
  },
  {
   "cell_type": "code",
   "execution_count": null,
   "metadata": {
    "collapsed": true
   },
   "outputs": [],
   "source": []
  }
 ],
 "metadata": {
  "kernelspec": {
   "display_name": "Python 2",
   "language": "python",
   "name": "python2"
  },
  "language_info": {
   "codemirror_mode": {
    "name": "ipython",
    "version": 2
   },
   "file_extension": ".py",
   "mimetype": "text/x-python",
   "name": "python",
   "nbconvert_exporter": "python",
   "pygments_lexer": "ipython2",
   "version": "2.7.3"
  }
 },
 "nbformat": 4,
 "nbformat_minor": 0
}
