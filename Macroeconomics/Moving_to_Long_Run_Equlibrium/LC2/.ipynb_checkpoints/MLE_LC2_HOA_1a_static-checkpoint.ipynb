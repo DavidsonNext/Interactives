{
 "cells": [
  {
   "cell_type": "markdown",
   "metadata": {},
   "source": [
    "###Moving to Long-Run Equilibrium\n",
    "https://studio.edge.edx.org/container/i4x://DavidsonCollege/DAP002/vertical/ee567d7e52294aeaa8a32cd1c3f09cf3?action=new"
   ]
  },
  {
   "cell_type": "code",
   "execution_count": 4,
   "metadata": {
    "collapsed": false
   },
   "outputs": [
    {
     "data": {
      "text/html": [
       "<!DOCTYPE html>\n",
       "<html>\n",
       "    <head>\n",
       "        <meta charset=\"UTF-8\">\n",
       "        <title>Moving Toward Long-Run Equilibrium</title>\n",
       "        <script type=\"text/javascript\" src=\"http://cdn.mathjax.org/mathjax/latest/MathJax.js?config=AM_HTMLorMML-full\"></script>\n",
       "        <script type=\"text/javascript\" src=\"https://cdnjs.cloudflare.com/ajax/libs/jsxgraph/0.98/jsxgraphcore.js\"></script>\n",
       "        <script type=\"text/javascript\" src=\"underscore-min.js\"></script>\n",
       "        <script type=\"text/javascript\" src=\"jquery.min.js\"></script>\n",
       "        <script type=\"text/javascript\" src=\"jquery-ui.min.js\"></script>\n",
       "        <script type=\"text/javascript\" src=\"../../JS/Macro.js\"></script>\n",
       "        <script type=\"text/javascript\" src=\"MLE_LC2_HOA_1a_static.js\"></script>\n",
       "    </head>\n",
       "\n",
       "    <body>\n",
       "        <div style=\"width: 100%; overflow: hidden;\">\n",
       "            <div id='jxgbox1' class='jxgbox' style='width:350px; height:300px; float:left; border: solid #1f628d 2px;'></div>        \n",
       "        </div>\n",
       "    </body>\n",
       "</html>"
      ],
      "text/plain": [
       "<IPython.core.display.HTML object>"
      ]
     },
     "metadata": {},
     "output_type": "display_data"
    }
   ],
   "source": [
    "%%HTML\n",
    "<!DOCTYPE html>\n",
    "<html>\n",
    "    <head>\n",
    "        <meta charset=\"UTF-8\">\n",
    "        <title>Moving Toward Long-Run Equilibrium</title>\n",
    "        <script type=\"text/javascript\" src=\"http://cdn.mathjax.org/mathjax/latest/MathJax.js?config=AM_HTMLorMML-full\"></script>\n",
    "        <script type=\"text/javascript\" src=\"https://cdnjs.cloudflare.com/ajax/libs/jsxgraph/0.98/jsxgraphcore.js\"></script>\n",
    "        <script type=\"text/javascript\" src=\"underscore-min.js\"></script>\n",
    "        <script type=\"text/javascript\" src=\"jquery.min.js\"></script>\n",
    "        <script type=\"text/javascript\" src=\"jquery-ui.min.js\"></script>\n",
    "        <script type=\"text/javascript\" src=\"../../JS/Macro.js\"></script>\n",
    "        <script type=\"text/javascript\" src=\"MLE_LC2_HOA_1a_static.js\"></script>\n",
    "    </head>\n",
    "\n",
    "    <body>\n",
    "        <div style=\"width: 100%; overflow: hidden;\">\n",
    "            <div id='jxgbox1' class='jxgbox' style='width:350px; height:300px; float:left; border: solid #1f628d 2px;'></div>        \n",
    "        </div>\n",
    "    </body>\n",
    "</html>"
   ]
  },
  {
   "cell_type": "markdown",
   "metadata": {},
   "source": [
    "### Generate HTML File"
   ]
  },
  {
   "cell_type": "code",
   "execution_count": 5,
   "metadata": {
    "collapsed": false
   },
   "outputs": [
    {
     "name": "stdout",
     "output_type": "stream",
     "text": [
      "\n",
      "<!DOCTYPE html>\n",
      "<html>\n",
      "    <head>\n",
      "        <meta charset=\"UTF-8\">\n",
      "        <title>Moving Toward Long-Run Equilibrium</title>\n",
      "        <script type=\"text/javascript\" src=\"http://cdn.mathjax.org/mathjax/latest/MathJax.js?config=AM_HTMLorMML-full\"></script>\n",
      "        <script type=\"text/javascript\" src=\"https://cdnjs.cloudflare.com/ajax/libs/jsxgraph/0.98/jsxgraphcore.js\"></script>\n",
      "        <script type=\"text/javascript\" src=\"underscore-min.js\"></script>\n",
      "        <script type=\"text/javascript\" src=\"jquery.min.js\"></script>\n",
      "        <script type=\"text/javascript\" src=\"jquery-ui.min.js\"></script>\n",
      "        <script type=\"text/javascript\" src=\"/static/Macro.js\"></script>\n",
      "        <script type=\"text/javascript\" src=\"MLE_LC2_HOA_1a_static.js\"></script>\n",
      "    </head>\n",
      "\n",
      "    <body>\n",
      "        <div style=\"width: 100%; overflow: hidden;\">\n",
      "            <div id='jxgbox1' class='jxgbox' style='width:350px; height:300px; float:left; border: solid #1f628d 2px;'></div>        \n",
      "        </div>\n",
      "    </body>\n",
      "</html>\n"
     ]
    }
   ],
   "source": [
    "import re\n",
    "\n",
    "#tmpfile = _i86\n",
    "index_htmlinput = [ i for i,x in enumerate(_ih) if \"run_cell_magic(u'HTML'\" in x and \"re.sub('%%HTML','',tmpfile)\" not in x]\n",
    "\n",
    "tmpfile = eval('_i%d' % int(index_htmlinput[-1]))\n",
    "tmpfile = re.sub('%%HTML','',tmpfile)\n",
    "tmpfile = re.sub(r'<!--START-BUTTON FOR PASS STATE(.*?)END-BUTTON FOR PASS STATE-->','',tmpfile,flags=re.DOTALL)\n",
    "tmpfile = re.sub(r'//START-PASS STATE TO IPYTHON KERNEL(.*?)//END-PASS STATE TO IPYTHON KERNEL','',tmpfile,flags=re.DOTALL)\n",
    "tmpfile = re.sub(r'<script type=\"text/javascript\" src=\"../../JS/Macro.js\"></script>','<script type=\"text/javascript\" src=\"/static/Macro.js\"></script>',tmpfile,flags=re.DOTALL)\n",
    "\n",
    "filename = 'MLE_LC2_HOA_1a_static'\n",
    "html_filename = '%s.html' % filename\n",
    "\n",
    "with open(html_filename,'w') as hfile:\n",
    "    hfile.write(tmpfile)\n",
    "print tmpfile"
   ]
  },
  {
   "cell_type": "code",
   "execution_count": null,
   "metadata": {
    "collapsed": true
   },
   "outputs": [],
   "source": []
  }
 ],
 "metadata": {
  "kernelspec": {
   "display_name": "Python 2",
   "language": "python",
   "name": "python2"
  },
  "language_info": {
   "codemirror_mode": {
    "name": "ipython",
    "version": 2
   },
   "file_extension": ".py",
   "mimetype": "text/x-python",
   "name": "python",
   "nbconvert_exporter": "python",
   "pygments_lexer": "ipython2",
   "version": "2.7.3"
  }
 },
 "nbformat": 4,
 "nbformat_minor": 0
}
