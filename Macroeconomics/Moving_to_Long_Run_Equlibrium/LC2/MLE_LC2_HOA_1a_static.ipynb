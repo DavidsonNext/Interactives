{
 "cells": [
  {
   "cell_type": "markdown",
   "metadata": {},
   "source": [
    "###Moving to Long-Run Equilibrium\n",
    "https://studio.edge.edx.org/container/i4x://DavidsonCollege/DAP002/vertical/ee567d7e52294aeaa8a32cd1c3f09cf3?action=new"
   ]
  },
  {
   "cell_type": "code",
   "execution_count": 6,
   "metadata": {
    "collapsed": false
   },
   "outputs": [
    {
     "data": {
      "text/html": [
       "<!DOCTYPE html>\n",
       "<html>\n",
       "    <head>\n",
       "        <meta charset=\"UTF-8\">\n",
       "        <title>Moving Toward Long-Run Equilibrium</title>\n",
       "        <script type=\"text/javascript\" src=\"https://cdnjs.cloudflare.com/ajax/libs/jsxgraph/0.98/jsxgraphcore.js\"></script>\n",
       "        <script type=\"text/javascript\" src=\"underscore-min.js\"></script>\n",
       "        <script type=\"text/javascript\" src=\"jquery.min.js\"></script>\n",
       "        <script type=\"text/javascript\" src=\"jquery-ui.min.js\"></script>\n",
       "    </head>\n",
       "    <body>    \n",
       "        <div style=\"width: 100%; overflow: hidden;\">\n",
       "            <div id='jxgbox1' class='jxgbox' style='width:500px; height:450px; float:left; border: solid #1f628d 2px;'></div>        \n",
       "        </div>\n",
       "        \n",
       "        <script type=\"text/javascript\" src=\"../../JS/Macro_t1.0.js\"></script>\n",
       "        <script type=\"text/javascript\" src=\"MLE_LC2_HOA_1b_graded.js\"></script>\n",
       "    </body>\n",
       "</html>"
      ],
      "text/plain": [
       "<IPython.core.display.HTML object>"
      ]
     },
     "metadata": {},
     "output_type": "display_data"
    }
   ],
   "source": [
    "%%HTML\n",
    "<!DOCTYPE html>\n",
    "<html>\n",
    "    <head>\n",
    "        <meta charset=\"UTF-8\">\n",
    "        <title>Moving Toward Long-Run Equilibrium</title>\n",
    "        <script type=\"text/javascript\" src=\"https://cdnjs.cloudflare.com/ajax/libs/jsxgraph/0.98/jsxgraphcore.js\"></script>\n",
    "        <script type=\"text/javascript\" src=\"underscore-min.js\"></script>\n",
    "        <script type=\"text/javascript\" src=\"jquery.min.js\"></script>\n",
    "        <script type=\"text/javascript\" src=\"jquery-ui.min.js\"></script>\n",
    "    </head>\n",
    "    <body>    \n",
    "        <div style=\"width: 100%; overflow: hidden;\">\n",
    "            <div id='jxgbox1' class='jxgbox' style='width:500px; height:450px; float:left; border: solid #1f628d 2px;'></div>        \n",
    "        </div>\n",
    "        \n",
    "        <script type=\"text/javascript\" src=\"../../JS/Macro_t1.0.js\"></script>\n",
    "        <script type=\"text/javascript\" src=\"MLE_LC2_HOA_1b_graded.js\"></script>\n",
    "    </body>\n",
    "</html>"
   ]
  },
  {
   "cell_type": "markdown",
   "metadata": {},
   "source": [
    "### Generate HTML File"
   ]
  },
  {
   "cell_type": "code",
   "execution_count": 10,
   "metadata": {
    "collapsed": false
   },
   "outputs": [
    {
     "name": "stdout",
     "output_type": "stream",
     "text": [
      "\n",
      "<!DOCTYPE html>\n",
      "<html>\n",
      "    <head>\n",
      "        <meta charset=\"UTF-8\">\n",
      "        <title>Moving Toward Long-Run Equilibrium</title>\n",
      "        <script type=\"text/javascript\" src=\"https://cdnjs.cloudflare.com/ajax/libs/jsxgraph/0.98/jsxgraphcore.js\"></script>\n",
      "        <script type=\"text/javascript\" src=\"underscore-min.js\"></script>\n",
      "        <script type=\"text/javascript\" src=\"jquery.min.js\"></script>\n",
      "        <script type=\"text/javascript\" src=\"jquery-ui.min.js\"></script>\n",
      "    </head>\n",
      "    <body>    \n",
      "        <div style=\"width: 100%; overflow: hidden;\">\n",
      "            <div id='jxgbox1' class='jxgbox' style='width:500px; height:450px; float:left; border: solid #1f628d 2px;'></div>        \n",
      "        </div>\n",
      "        \n",
      "        <script type=\"text/javascript\" src=\"/c4x/DavidsonCollege/DAP002/asset/Macro_t1.0.js\"></script>\n",
      "        <script type=\"text/javascript\" src=\"/c4x/DavidsonCollege/DAP002/asset/MLE_LC2_HOA_1b_graded.js\"></script>\n",
      "    </body>\n",
      "</html>\n"
     ]
    }
   ],
   "source": [
    "import re\n",
    "from os import path\n",
    "\n",
    "### Find the HTML cell within the IPython inputs\n",
    "index_htmlinput = [ i for i,x in enumerate(_ih) if \"run_cell_magic(u'HTML'\" in x and \"re.sub('%%HTML','',tmpfile)\" not in x]\n",
    "\n",
    "tmpfile = eval('_i%d' % int(index_htmlinput[-1]))\n",
    "tmpfile = re.sub('%%HTML','',tmpfile)\n",
    "\n",
    "### Remove IPython specific commands\n",
    "tmpfile = re.sub(r'<!--START-BUTTON FOR PASS STATE(.*?)END-BUTTON FOR PASS STATE-->','',tmpfile,flags=re.DOTALL)\n",
    "tmpfile = re.sub(r'//START-PASS STATE TO IPYTHON KERNEL(.*?)//END-PASS STATE TO IPYTHON KERNEL','',tmpfile,flags=re.DOTALL)\n",
    "\n",
    "### Replace relative links with the appropriate edX links\n",
    "# tmpfile = re.sub(r'src=\"../../JS/Macro_t1.0.js\"','src=\"/c4x/DavidsonCollege/DAP002/asset/Macro_t1.0.js\"',tmpfile,flags=re.DOTALL)\n",
    "tmpfile = re.sub(path.dirname(\"../../JS/Macro_t1.0.js\"),'/c4x/DavidsonCollege/DAP002/asset',tmpfile,flags=re.DOTALL)\n",
    "\n",
    "### Specific Files\n",
    "tmpfile = re.sub('src=\"MLE_LC2_HOA_1b_graded.js\"','src=\"/c4x/DavidsonCollege/DAP002/asset/MLE_LC2_HOA_1b_graded.js\"',tmpfile,flags=re.DOTALL)\n",
    "tmpfile = re.sub('src=\"MLE_LC2_HOA_1a_static.css\"','src=\"/c4x/DavidsonCollege/DAP002/asset/MLE_LC2_HOA_1a_static.css\"',tmpfile,flags=re.DOTALL)\n",
    "\n",
    "\n",
    "### Would be cool if it just took the title of the notebook\n",
    "html_filename = 'MLE_LC2_HOA_1a_static' + '.html'\n",
    "\n",
    "with open(html_filename,'w') as hfile:\n",
    "    hfile.write(tmpfile)\n",
    "print tmpfile"
   ]
  },
  {
   "cell_type": "code",
   "execution_count": null,
   "metadata": {
    "collapsed": true
   },
   "outputs": [],
   "source": []
  }
 ],
 "metadata": {
  "kernelspec": {
   "display_name": "Python 2",
   "name": "python2"
  },
  "language_info": {
   "codemirror_mode": {
    "name": "ipython",
    "version": 2
   },
   "file_extension": ".py",
   "mimetype": "text/x-python",
   "name": "python",
   "nbconvert_exporter": "python",
   "pygments_lexer": "ipython2",
   "version": "2.7.9"
  }
 },
 "nbformat": 4,
 "nbformat_minor": 0
}