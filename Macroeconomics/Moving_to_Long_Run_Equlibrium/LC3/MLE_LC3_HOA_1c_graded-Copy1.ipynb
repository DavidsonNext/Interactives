{
 "cells": [
  {
   "cell_type": "markdown",
   "metadata": {},
   "source": [
    "###Moving to Long-Run Equilibrium\n",
    "https://studio.edge.edx.org/container/i4x://DavidsonCollege/DAP002/vertical/ee567d7e52294aeaa8a32cd1c3f09cf3?action=new"
   ]
  },
  {
   "cell_type": "code",
   "execution_count": 1,
   "metadata": {
    "collapsed": false
   },
   "outputs": [
    {
     "data": {
      "text/html": [
       "<!DOCTYPE html>\n",
       "<html>\n",
       "    <head>\n",
       "        <meta charset=\"UTF-8\">\n",
       "        <title>Moving Toward Long-Run Equilibrium</title>\n",
       "        <script type=\"text/javascript\" src=\"https://cdn.mathjax.org/mathjax/latest/MathJax.js?config=AM_HTMLorMML-full\"></script>\n",
       "        <script type=\"text/javascript\" src=\"https://cdnjs.cloudflare.com/ajax/libs/jsxgraph/0.98/jsxgraphcore.js\"></script>\n",
       "        <script type=\"text/javascript\" src=\"underscore-min.js\"></script>\n",
       "        <script type=\"text/javascript\" src=\"jquery.min.js\"></script>\n",
       "        <script type=\"text/javascript\" src=\"jquery-ui.min.js\"></script>\n",
       "        \n",
       "    </head>\n",
       "\n",
       "    <body>\n",
       "        <div style=\"width: 100%; overflow: hidden;\">\n",
       "            <div id='jxgbox1' class='jxgbox' style='width:500px; height:450px; float:left; border: solid #1f628d 2px;'></div>        \n",
       "        </div>\n",
       "        \n",
       "        <!--START-BUTTON FOR PASS STATE-->\n",
       "        <div id='StateGrab' style='width:350px; float:left;'>        \n",
       "            <input class=\"btn\" type=\"button\" value=\"Get State\" onClick=\"getNotebookState()\">\n",
       "            <div id=\"spaceBelow\">State:</div>\n",
       "        </div>\n",
       "        <script type=\"text/javascript\">\n",
       "            getNotebookState = function(){\n",
       "                state = getInput();\n",
       "                statestr = JSON.stringify(state);\n",
       "\n",
       "                document.getElementById('spaceBelow').innerHTML += '<br>'+statestr;\n",
       "                var command = \"state = \" + statestr;\n",
       "                console.log(command);\n",
       "\n",
       "                //Kernel\n",
       "                var kernel = IPython.notebook.kernel;\n",
       "                kernel.execute(command);\n",
       "\n",
       "                return statestr;\n",
       "            }\n",
       "        </script>\n",
       "        <!--END-BUTTON FOR PASS STATE-->\n",
       "        \n",
       "        <script type=\"text/javascript\" src=\"../../JS/Macro_t1.0.js\"></script>\n",
       "        <script type=\"text/javascript\" src=\"MLE_LC3_HOA_1b_graded.js\"></script>\n",
       "    </body>\n",
       "</html>"
      ],
      "text/plain": [
       "<IPython.core.display.HTML object>"
      ]
     },
     "metadata": {},
     "output_type": "display_data"
    }
   ],
   "source": [
    "%%HTML\n",
    "<!DOCTYPE html>\n",
    "<html>\n",
    "    <head>\n",
    "        <meta charset=\"UTF-8\">\n",
    "        <title>Moving Toward Long-Run Equilibrium</title>\n",
    "        <script type=\"text/javascript\" src=\"https://cdn.mathjax.org/mathjax/latest/MathJax.js?config=AM_HTMLorMML-full\"></script>\n",
    "        <script type=\"text/javascript\" src=\"https://cdnjs.cloudflare.com/ajax/libs/jsxgraph/0.98/jsxgraphcore.js\"></script>\n",
    "        <script type=\"text/javascript\" src=\"underscore-min.js\"></script>\n",
    "        <script type=\"text/javascript\" src=\"jquery.min.js\"></script>\n",
    "        <script type=\"text/javascript\" src=\"jquery-ui.min.js\"></script>\n",
    "        \n",
    "    </head>\n",
    "\n",
    "    <body>\n",
    "        <div style=\"width: 100%; overflow: hidden;\">\n",
    "            <div id='jxgbox1' class='jxgbox' style='width:500px; height:450px; float:left; border: solid #1f628d 2px;'></div>        \n",
    "        </div>\n",
    "        \n",
    "        <!--START-BUTTON FOR PASS STATE-->\n",
    "        <div id='StateGrab' style='width:350px; float:left;'>        \n",
    "            <input class=\"btn\" type=\"button\" value=\"Get State\" onClick=\"getNotebookState()\">\n",
    "            <div id=\"spaceBelow\">State:</div>\n",
    "        </div>\n",
    "        <script type=\"text/javascript\">\n",
    "            getNotebookState = function(){\n",
    "                state = getInput();\n",
    "                statestr = JSON.stringify(state);\n",
    "\n",
    "                document.getElementById('spaceBelow').innerHTML += '<br>'+statestr;\n",
    "                var command = \"state = \" + statestr;\n",
    "                console.log(command);\n",
    "\n",
    "                //Kernel\n",
    "                var kernel = IPython.notebook.kernel;\n",
    "                kernel.execute(command);\n",
    "\n",
    "                return statestr;\n",
    "            }\n",
    "        </script>\n",
    "        <!--END-BUTTON FOR PASS STATE-->\n",
    "        \n",
    "        <script type=\"text/javascript\" src=\"../../JS/Macro_t1.0.js\"></script>\n",
    "        <script type=\"text/javascript\" src=\"MLE_LC3_HOA_1b_graded.js\"></script>\n",
    "    </body>\n",
    "</html>"
   ]
  },
  {
   "cell_type": "markdown",
   "metadata": {},
   "source": [
    "### Grading"
   ]
  },
  {
   "cell_type": "code",
   "execution_count": 3,
   "metadata": {
    "collapsed": false
   },
   "outputs": [
    {
     "name": "stdout",
     "output_type": "stream",
     "text": [
      "{'msg': 'Good job.', 'ok': True}\n"
     ]
    }
   ],
   "source": [
    "import json   \n",
    "\n",
    "def dist1D(xf,xi):\n",
    "    #print xf,xi,xf-xi\n",
    "    return xf-xi\n",
    "    \n",
    "def grader(e, ans):\n",
    "    answer = json.loads(ans)#['answer']\n",
    "    #return {'ok': False, 'msg': '%s' % str(answer)}\n",
    "    \n",
    "    deltaAD = dist1D(answer['AD2']['p1Y'],answer['AD1']['p1Y'])\n",
    "    \n",
    "    deltaSRAS = dist1D(answer['SRAS2']['p1X'],answer['SRAS1']['p1X'])\n",
    "    if abs(deltaAD) > 0.1:\n",
    "        return {'ok': False, 'msg': 'Incorrect. Please rethink your solution.'}\n",
    "    \n",
    "    if deltaSRAS < 0:\n",
    "        if abs(deltaSRAS) > 0.5:\n",
    "            return {'ok': True, 'msg': 'Good job.'}\n",
    "        else:\n",
    "            return {'ok': False, 'msg': 'Unable to discern size of shift. Try shifting frather from original position.'}\n",
    "    elif deltaSRAS > 0:\n",
    "        return {'ok': False, 'msg': 'Incorrect. Please rethink your solution.'}\n",
    "    else:\n",
    "        return {'ok': False, 'msg': 'Something is wrong with you solution. Have you shifted any of the draggable curves?'}\n",
    "\n",
    "# import json   \n",
    "\n",
    "# def dist1D(xf,xi):\n",
    "#     #print xf,xi,xf-xi\n",
    "#     return xf-xi\n",
    "    \n",
    "# def grader(e, ans):\n",
    "#     answer = json.loads(ans)['answer']\n",
    "    \n",
    "#     ### For edX\n",
    "#     #answer = json.loads(json.loads(ans)['answer'])\n",
    "#     #return {'ok': False, 'msg': '%s' % str(answer)}\n",
    "    \n",
    "#     delta = dist1D(answer['dragLine']['p1Y'],answer['staticLine']['p1Y'])\n",
    "    \n",
    "#     if delta > 0:\n",
    "#         if delta > 0.5:\n",
    "#             return {'ok': True, 'msg': 'Good job.'}\n",
    "#     elif delta < 0:\n",
    "#         return {'ok': False, 'msg': 'Please rethink your solution - explanation.'}\n",
    "#     else:\n",
    "#         return {'ok': False, 'msg': 'Something wrong with you solution. Be sure you are shifting the Orange line with your mouse.'}\n",
    "    \n",
    "print grader(\"huh?\",state)\n",
    "\n",
    "\n"
   ]
  },
  {
   "cell_type": "markdown",
   "metadata": {},
   "source": [
    "### Generate HTML File"
   ]
  },
  {
   "cell_type": "code",
   "execution_count": 18,
   "metadata": {
    "collapsed": false
   },
   "outputs": [
    {
     "name": "stdout",
     "output_type": "stream",
     "text": [
      "\n",
      "<!DOCTYPE html>\n",
      "<html>\n",
      "    <head>\n",
      "        <meta charset=\"UTF-8\">\n",
      "        <title>Moving Toward Long-Run Equilibrium</title>\n",
      "        <script type=\"text/javascript\" src=\"https://cdn.mathjax.org/mathjax/latest/MathJax.js?config=AM_HTMLorMML-full\"></script>\n",
      "        <script type=\"text/javascript\" src=\"https://cdnjs.cloudflare.com/ajax/libs/jsxgraph/0.98/jsxgraphcore.js\"></script>\n",
      "        <script type=\"text/javascript\" src=\"underscore-min.js\"></script>\n",
      "        <script type=\"text/javascript\" src=\"jquery.min.js\"></script>\n",
      "        <script type=\"text/javascript\" src=\"jquery-ui.min.js\"></script>\n",
      "        \n",
      "    </head>\n",
      "\n",
      "    <body>\n",
      "        <div style=\"width: 100%; overflow: hidden;\">\n",
      "            <div id='jxgbox1' class='jxgbox' style='width:500px; height:450px; float:left; border: solid #1f628d 2px;'></div>        \n",
      "        </div>\n",
      "        \n",
      "        \n",
      "        \n",
      "        <script type=\"text/javascript\" src=\"/c4x/DavidsonCollege/DAP002/asset/Macro_t1.0.js\"></script>\n",
      "        <script type=\"text/javascript\" src=\"/c4x/DavidsonCollege/DAP002/asset/MLE_LC3_HOA_1b_graded.js\"></script>\n",
      "    </body>\n",
      "</html>\n"
     ]
    }
   ],
   "source": [
    "import re\n",
    "from os import path\n",
    "\n",
    "### Find the HTML cell within the IPython inputs\n",
    "index_htmlinput = [ i for i,x in enumerate(_ih) if \"run_cell_magic(u'HTML'\" in x and \"re.sub('%%HTML','',tmpfile)\" not in x]\n",
    "\n",
    "tmpfile = eval('_i%d' % int(index_htmlinput[-1]))\n",
    "tmpfile = re.sub('%%HTML','',tmpfile)\n",
    "\n",
    "### Remove IPython specific commands\n",
    "tmpfile = re.sub(r'<!--START-BUTTON FOR PASS STATE(.*?)END-BUTTON FOR PASS STATE-->','',tmpfile,flags=re.DOTALL)\n",
    "tmpfile = re.sub(r'//START-PASS STATE TO IPYTHON KERNEL(.*?)//END-PASS STATE TO IPYTHON KERNEL','',tmpfile,flags=re.DOTALL)\n",
    "\n",
    "### Replace relative links with the appropriate edX links\n",
    "# tmpfile = re.sub(r'src=\"../../JS/Macro_t1.0.js\"','src=\"/c4x/DavidsonCollege/DAP002/asset/Macro_t1.0.js\"',tmpfile,flags=re.DOTALL)\n",
    "tmpfile = re.sub(path.dirname(\"../../JS/Macro_t1.0.js\"),'/c4x/DavidsonCollege/DAP002/asset',tmpfile,flags=re.DOTALL)\n",
    "\n",
    "### Specific Files\n",
    "tmpfile = re.sub('src=\"MLE_LC3_HOA_1b_graded.js\"','src=\"/c4x/DavidsonCollege/DAP002/asset/MLE_LC3_HOA_1b_graded.js\"',tmpfile,flags=re.DOTALL)\n",
    "tmpfile = re.sub('src=\"MLE_LC3_HOA_1b_graded.css\"','src=\"/c4x/DavidsonCollege/DAP002/asset/MLE_LC3_HOA_1b_graded.css\"',tmpfile,flags=re.DOTALL)\n",
    "\n",
    "\n",
    "### Would be cool if it just took the title of the notebook\n",
    "html_filename = 'MLE_LC3_HOA_1b_graded' + '.html'\n",
    "\n",
    "with open(html_filename,'w') as hfile:\n",
    "    hfile.write(tmpfile)\n",
    "print tmpfile\n",
    "\n"
   ]
  },
  {
   "cell_type": "code",
   "execution_count": null,
   "metadata": {
    "collapsed": true
   },
   "outputs": [],
   "source": []
  }
 ],
 "metadata": {
  "kernelspec": {
   "display_name": "Python 2",
   "name": "python2"
  },
  "language_info": {
   "codemirror_mode": {
    "name": "ipython",
    "version": 2
   },
   "file_extension": ".py",
   "mimetype": "text/x-python",
   "name": "python",
   "nbconvert_exporter": "python",
   "pygments_lexer": "ipython2",
   "version": "2.7.9"
  }
 },
 "nbformat": 4,
 "nbformat_minor": 0
}