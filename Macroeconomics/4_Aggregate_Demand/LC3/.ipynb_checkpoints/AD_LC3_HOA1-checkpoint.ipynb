{
 "cells": [
  {
   "cell_type": "markdown",
   "metadata": {},
   "source": [
    "### Aggregate Demand\n",
    "https://studio.edge.edx.org/container/i4x://DavidsonCollege/DAP002/vertical/c956e70a98a8407ca59565eb93126492"
   ]
  },
  {
   "cell_type": "code",
   "execution_count": 27,
   "metadata": {
    "collapsed": false
   },
   "outputs": [
    {
     "name": "stdout",
     "output_type": "stream",
     "text": [
      "JSinput Ipython Workflow. Below are parameters of your template:\n",
      "\n",
      "Course: DavidsonCollege/DAP002/3T2014\n",
      "Title: Aggregate Demand: HOA #3\n",
      "JS - main Javascript File: AD_LC3_HOA1.js\n",
      "MacroJS - file for generalized functions: ../../JS/Macro_1Board.js\n",
      "MacroCSS - if you have it: Macro_1Board.css\n",
      "OutputFile: AD_LC3_HOA1.html\n"
     ]
    }
   ],
   "source": [
    "import sys\n",
    "import re\n",
    "sys.path.append('../../Python')\n",
    "\n",
    "import templateGenerator\n",
    "reload(templateGenerator)\n",
    "tGen = templateGenerator.templateGenerator(course_id='DavidsonCollege/DAP002/3T2014',\n",
    "                                           Title='Aggregate Demand: HOA #1',\n",
    "                                           MacroJS='../../JS/Macro_1Board.js',\n",
    "                                           JS='AD_LC3_HOA1.js',\n",
    "                                           OutputFile='AD_LC3_HOA1.html',\n",
    "                                           studioPaths=False \n",
    "                                          )"
   ]
  },
  {
   "cell_type": "markdown",
   "metadata": {},
   "source": [
    "### HTML Interactive Cell"
   ]
  },
  {
   "cell_type": "code",
   "execution_count": 28,
   "metadata": {
    "collapsed": false
   },
   "outputs": [
    {
     "data": {
      "text/html": [
       "<!DOCTYPE html>\n",
       "<html>\n",
       "    <head>\n",
       "        <meta charset=\"UTF-8\">\n",
       "        <title></title>\n",
       "        <script type=\"text/javascript\" src=\"https://cdnjs.cloudflare.com/ajax/libs/jsxgraph/0.98/jsxgraphcore.js\"></script>\n",
       "        \n",
       "    </head>\n",
       "\n",
       "    <body>\n",
       "        <div style=\"width: 100%; overflow: hidden;\">\n",
       "            <div id='jxgbox1' class='jxgbox' style='width:500px; height:450px; float:left; border: solid #1f628d 2px;'></div>        \n",
       "        </div>\n",
       "    \n",
       "        <!--START-BUTTON FOR PASS STATE-->\n",
       "        <div id='StateGrab' style='width:350px; float:left;'>        \n",
       "            <input class=\"btn\" type=\"button\" value=\"Get State\" onClick=\"getNotebookState()\">\n",
       "            <div id=\"spaceBelow\">State:</div>\n",
       "        </div>\n",
       "        \n",
       "        <script type=\"text/javascript\">\n",
       "            getNotebookState = function(){\n",
       "                state = getGrade();\n",
       "                statestr = JSON.stringify(state);\n",
       "\n",
       "                document.getElementById('spaceBelow').innerHTML += '<br>'+statestr;\n",
       "                var command = \"state = \" + statestr;\n",
       "                console.log(command);\n",
       "\n",
       "                //Kernel\n",
       "                var kernel = IPython.notebook.kernel;\n",
       "                kernel.execute(command);\n",
       "\n",
       "                return statestr;\n",
       "            }\n",
       "        </script>\n",
       "        <!--END-BUTTON FOR PASS STATE-->\n",
       "        \n",
       "        <script type=\"text/javascript\" src=\"../../JS/jschannel.js\"></script>\n",
       "        <script type=\"text/javascript\" src=\"../../JS/edxintegration.js\"></script>\n",
       "        <script type=\"text/javascript\" src=\"../../JS/params1Board.js\"></script>\n",
       "        <script type=\"text/javascript\" src=\"../../JS/MacroAllBoards.js\"></script>\n",
       "        <script type=\"text/javascript\" src=\"AD_LC3_HOA1.js\"></script>\n",
       "    </body>\n",
       "</html>"
      ],
      "text/plain": [
       "<IPython.core.display.HTML object>"
      ]
     },
     "metadata": {},
     "output_type": "display_data"
    }
   ],
   "source": [
    "%%HTML\n",
    "<!DOCTYPE html>\n",
    "<html>\n",
    "    <head>\n",
    "        <meta charset=\"UTF-8\">\n",
    "        <title></title>\n",
    "        <script type=\"text/javascript\" src=\"https://cdnjs.cloudflare.com/ajax/libs/jsxgraph/0.98/jsxgraphcore.js\"></script>\n",
    "        \n",
    "    </head>\n",
    "\n",
    "    <body>\n",
    "        <div style=\"width: 100%; overflow: hidden;\">\n",
    "            <div id='jxgbox1' class='jxgbox' style='width:500px; height:450px; float:left; border: solid #1f628d 2px;'></div>        \n",
    "        </div>\n",
    "    \n",
    "        <!--START-BUTTON FOR PASS STATE-->\n",
    "        <div id='StateGrab' style='width:350px; float:left;'>        \n",
    "            <input class=\"btn\" type=\"button\" value=\"Get State\" onClick=\"getNotebookState()\">\n",
    "            <div id=\"spaceBelow\">State:</div>\n",
    "        </div>\n",
    "        \n",
    "        <script type=\"text/javascript\">\n",
    "            getNotebookState = function(){\n",
    "                state = getGrade();\n",
    "                statestr = JSON.stringify(state);\n",
    "\n",
    "                document.getElementById('spaceBelow').innerHTML += '<br>'+statestr;\n",
    "                var command = \"state = \" + statestr;\n",
    "                console.log(command);\n",
    "\n",
    "                //Kernel\n",
    "                var kernel = IPython.notebook.kernel;\n",
    "                kernel.execute(command);\n",
    "\n",
    "                return statestr;\n",
    "            }\n",
    "        </script>\n",
    "        <!--END-BUTTON FOR PASS STATE-->\n",
    "        \n",
    "        <script type=\"text/javascript\" src=\"../../JS/jschannel.js\"></script>\n",
    "        <script type=\"text/javascript\" src=\"../../JS/edxintegration.js\"></script>\n",
    "        <script type=\"text/javascript\" src=\"../../JS/params1Board.js\"></script>\n",
    "        <script type=\"text/javascript\" src=\"../../JS/MacroAllBoards.js\"></script>\n",
    "        <script type=\"text/javascript\" src=\"AD_LC3_HOA1.js\"></script>\n",
    "    </body>\n",
    "</html>"
   ]
  },
  {
   "cell_type": "markdown",
   "metadata": {},
   "source": [
    "###Ungraded"
   ]
  },
  {
   "cell_type": "code",
   "execution_count": 29,
   "metadata": {
    "collapsed": false
   },
   "outputs": [
    {
     "name": "stdout",
     "output_type": "stream",
     "text": [
      "\n",
      "<!DOCTYPE html>\n",
      "<html>\n",
      "    <head>\n",
      "        <meta charset=\"UTF-8\">\n",
      "        <title>Aggregate Demand: HOA #3</title>\n",
      "        <script type=\"text/javascript\" src=\"https://cdnjs.cloudflare.com/ajax/libs/jsxgraph/0.98/jsxgraphcore.js\"></script>\n",
      "        \n",
      "    </head>\n",
      "\n",
      "    <body>\n",
      "        <div style=\"width: 100%; overflow: hidden;\">\n",
      "            <div id='jxgbox1' class='jxgbox' style='width:500px; height:450px; float:left; border: solid #1f628d 2px;'></div>        \n",
      "        </div>\n",
      "    \n",
      "        \n",
      "        \n",
      "        <script type=\"text/javascript\" src=\"../../JS/jschannel.js\"></script>\n",
      "        <script type=\"text/javascript\" src=\"../../JS/edxintegration.js\"></script>\n",
      "        <script type=\"text/javascript\" src=\"../../JS/params1Board.js\"></script>\n",
      "        <script type=\"text/javascript\" src=\"../../JS/MacroAllBoards.js\"></script>\n",
      "        <script type=\"text/javascript\" src=\"AD_LC3_HOA1.js\"></script>\n",
      "    </body>\n",
      "</html>\n"
     ]
    }
   ],
   "source": [
    "# reload(templateGenerator)\n",
    "inputCell = eval('_i%d' % tGen.findIPythonHTMLCell(_ih))\n",
    "htmlFile = tGen.scrapeHTMLfromIPython(inputCell)\n",
    "tGen.writeOutputFile(htmlFile)\n"
   ]
  },
  {
   "cell_type": "code",
   "execution_count": null,
   "metadata": {
    "collapsed": false
   },
   "outputs": [],
   "source": []
  }
 ],
 "metadata": {
  "kernelspec": {
   "display_name": "Python 2",
   "language": "python",
   "name": "python2"
  },
  "language_info": {
   "codemirror_mode": {
    "name": "ipython",
    "version": 2
   },
   "file_extension": ".py",
   "mimetype": "text/x-python",
   "name": "python",
   "nbconvert_exporter": "python",
   "pygments_lexer": "ipython2",
   "version": "2.7.3"
  }
 },
 "nbformat": 4,
 "nbformat_minor": 0
}
