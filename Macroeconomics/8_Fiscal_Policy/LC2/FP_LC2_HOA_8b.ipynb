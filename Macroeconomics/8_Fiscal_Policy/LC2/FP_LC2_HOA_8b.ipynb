{
 "cells": [
  {
   "cell_type": "markdown",
   "metadata": {},
   "source": [
    "###Fiscal Policy - LC2 HOA 8a\n",
    "https://studio.edge.edx.org/container/i4x://DavidsonCollege/DAP002/vertical/53de12c80b4844a6b43d425fa9f225bc"
   ]
  },
  {
   "cell_type": "code",
   "execution_count": 1,
   "metadata": {
    "collapsed": false
   },
   "outputs": [
    {
     "name": "stdout",
     "output_type": "stream",
     "text": [
      "JSinput Ipython Workflow. Below are parameters of your template:\n",
      "\n",
      "Course: DavidsonCollege/DAP002/3T2014\n",
      "Title: Fiscal Policy: LC2 HOA #8b\n",
      "JS - main Javascript File: FP_LC2_HOA_8b.js\n",
      "MacroJS - file for generalized functions: ../../JS/Macro_1Board.js\n",
      "MacroCSS - if you have it: Macro_1Board.css\n",
      "OutputFile: FP_LC2_HOA_8b.html\n"
     ]
    }
   ],
   "source": [
    "import sys\n",
    "import re\n",
    "sys.path.append('../../Python')\n",
    "\n",
    "import templateGenerator\n",
    "reload(templateGenerator)\n",
    "tGen = templateGenerator.templateGenerator(course_id='DavidsonCollege/DAP002/3T2014',\n",
    "                                           Title='Fiscal Policy: LC2 HOA #8b',\n",
    "                                           MacroJS='../../JS/Macro_1Board.js',\n",
    "                                           JS='FP_LC2_HOA_8b.js',\n",
    "                                           OutputFile='FP_LC2_HOA_8b.html',\n",
    "                                           studioPaths=False \n",
    "                                          )"
   ]
  },
  {
   "cell_type": "markdown",
   "metadata": {},
   "source": [
    "### HTML Interactive Cell"
   ]
  },
  {
   "cell_type": "code",
   "execution_count": 2,
   "metadata": {
    "collapsed": false
   },
   "outputs": [
    {
     "data": {
      "text/html": [
       "<!DOCTYPE html>\n",
       "<html>\n",
       "    <head>\n",
       "        <meta charset=\"UTF-8\">\n",
       "        <title></title>\n",
       "        <script type=\"text/javascript\" src=\"https://cdnjs.cloudflare.com/ajax/libs/jsxgraph/0.98/jsxgraphcore.js\"></script>\n",
       "    </head>\n",
       "\n",
       "    <body>\n",
       "        <div style=\"width: 100%; overflow: hidden;\">\n",
       "            <div id='jxgbox1' class='jxgbox' style='width:500px; height:450px; float:left; border: solid #1f628d 2px;'></div>        \n",
       "        </div>\n",
       "        \n",
       "        <!--START-BUTTON FOR PASS STATE-->\n",
       "        <div id='StateGrab' style='width:350px; float:left;'>        \n",
       "            <input class=\"btn\" type=\"button\" value=\"Get State\" onClick=\"getNotebookState()\">\n",
       "            <div id=\"spaceBelow\">State:</div>\n",
       "        </div>\n",
       "        <script type=\"text/javascript\">\n",
       "            getNotebookState = function(){\n",
       "                state = getGrade();\n",
       "                statestr = JSON.stringify(state);\n",
       "\n",
       "                document.getElementById('spaceBelow').innerHTML += '<br>'+statestr;\n",
       "                var command = \"state = \" + statestr;\n",
       "                console.log(command);\n",
       "\n",
       "                //Kernel\n",
       "                var kernel = IPython.notebook.kernel;\n",
       "                kernel.execute(command);\n",
       "\n",
       "                return statestr;\n",
       "            }\n",
       "        </script>\n",
       "        <!--END-BUTTON FOR PASS STATE-->\n",
       "        \n",
       "        <script type=\"text/javascript\" src=\"../../JS/jschannel.js\"></script>\n",
       "        <script type=\"text/javascript\" src=\"../../JS/edxintegration.js\"></script>\n",
       "        <script type=\"text/javascript\" src=\"../../JS/Macro_1Board.js\"></script>\n",
       "        <script type=\"text/javascript\" src=\"FP_LC2_HOA_8b.js\"></script>\n",
       "    </body>\n",
       "</html>"
      ],
      "text/plain": [
       "<IPython.core.display.HTML object>"
      ]
     },
     "metadata": {},
     "output_type": "display_data"
    }
   ],
   "source": [
    "%%HTML\n",
    "<!DOCTYPE html>\n",
    "<html>\n",
    "    <head>\n",
    "        <meta charset=\"UTF-8\">\n",
    "        <title></title>\n",
    "        <script type=\"text/javascript\" src=\"https://cdnjs.cloudflare.com/ajax/libs/jsxgraph/0.98/jsxgraphcore.js\"></script>\n",
    "    </head>\n",
    "\n",
    "    <body>\n",
    "        <div style=\"width: 100%; overflow: hidden;\">\n",
    "            <div id='jxgbox1' class='jxgbox' style='width:500px; height:450px; float:left; border: solid #1f628d 2px;'></div>        \n",
    "        </div>\n",
    "        \n",
    "        <!--START-BUTTON FOR PASS STATE-->\n",
    "        <div id='StateGrab' style='width:350px; float:left;'>        \n",
    "            <input class=\"btn\" type=\"button\" value=\"Get State\" onClick=\"getNotebookState()\">\n",
    "            <div id=\"spaceBelow\">State:</div>\n",
    "        </div>\n",
    "        <script type=\"text/javascript\">\n",
    "            getNotebookState = function(){\n",
    "                state = getGrade();\n",
    "                statestr = JSON.stringify(state);\n",
    "\n",
    "                document.getElementById('spaceBelow').innerHTML += '<br>'+statestr;\n",
    "                var command = \"state = \" + statestr;\n",
    "                console.log(command);\n",
    "\n",
    "                //Kernel\n",
    "                var kernel = IPython.notebook.kernel;\n",
    "                kernel.execute(command);\n",
    "\n",
    "                return statestr;\n",
    "            }\n",
    "        </script>\n",
    "        <!--END-BUTTON FOR PASS STATE-->\n",
    "        \n",
    "        <script type=\"text/javascript\" src=\"../../JS/jschannel.js\"></script>\n",
    "        <script type=\"text/javascript\" src=\"../../JS/edxintegration.js\"></script>\n",
    "        <script type=\"text/javascript\" src=\"../../JS/Macro_1Board.js\"></script>\n",
    "        <script type=\"text/javascript\" src=\"FP_LC2_HOA_8b.js\"></script>\n",
    "    </body>\n",
    "</html>"
   ]
  },
  {
   "cell_type": "markdown",
   "metadata": {},
   "source": [
    "### Python Grading"
   ]
  },
  {
   "cell_type": "code",
   "execution_count": 11,
   "metadata": {
    "collapsed": false
   },
   "outputs": [
    {
     "name": "stdout",
     "output_type": "stream",
     "text": [
      "{'msg': 'Incorrect. Please rethink your solution.', 'ok': False}\n"
     ]
    }
   ],
   "source": [
    "import json   \n",
    "\n",
    "def dist1D(xf,xi):\n",
    "    #print xf,xi,xf-xi\n",
    "    return xf-xi\n",
    "    \n",
    "def grader(e, ans):\n",
    "    answer = json.loads(ans)#['answer']\n",
    "    #return {'ok': False, 'msg': '%s' % str(answer)}\n",
    "    \n",
    "    deltaADX = dist1D(answer['AD2']['p1X'],answer['AD1']['p1X'])\n",
    "    deltaADY = dist1D(answer['AD2']['p1Y'],answer['AD1']['p1Y'])\n",
    "    \n",
    "    deltaSRASX = dist1D(answer['SRAS2']['p1X'],answer['SRAS1']['p1X'])\n",
    "    deltaSRASY = dist1D(answer['SRAS2']['p1Y'],answer['SRAS1']['p1Y'])\n",
    "    \n",
    "    if abs(deltaSRASX) > 0.1 or abs(deltaSRASY) > 0.1:\n",
    "        return {'ok': False, 'msg': 'Incorrect. Please rethink your solution.'}\n",
    "    \n",
    "    if deltaADX < 0 and deltaADY < 0:\n",
    "        if abs(deltaADX) > 0.5 or abs(deltaADY) > 0.5:\n",
    "            return {'ok': True, 'msg': 'Good job.'}\n",
    "        elif abs(deltaADX) < 0.1 and abs(deltaADY) < 0.1:\n",
    "            return {'ok': False, 'msg': 'Unable to discern size of shift. Try shifting frather from original position.'}\n",
    "    elif deltaADX > 0 or deltaADY > 0:\n",
    "        return {'ok': False, 'msg': 'Incorrect. Please rethink your solution.'}\n",
    "    else:\n",
    "        return {'ok': False, 'msg': 'Something is wrong with you solution. Have you shifted any of the draggable curves?'}\n",
    "\n",
    "print grader(\"huh?\",state)\n"
   ]
  },
  {
   "cell_type": "markdown",
   "metadata": {},
   "source": [
    "### Generate HTML File"
   ]
  },
  {
   "cell_type": "code",
   "execution_count": 13,
   "metadata": {
    "collapsed": false
   },
   "outputs": [
    {
     "name": "stdout",
     "output_type": "stream",
     "text": [
      "\n",
      "<!DOCTYPE html>\n",
      "<html>\n",
      "    <head>\n",
      "        <meta charset=\"UTF-8\">\n",
      "        <title>Fiscal Policy: LC2 HOA #8b</title>\n",
      "        <script type=\"text/javascript\" src=\"https://cdnjs.cloudflare.com/ajax/libs/jsxgraph/0.98/jsxgraphcore.js\"></script>\n",
      "    </head>\n",
      "\n",
      "    <body>\n",
      "        <div style=\"width: 100%; overflow: hidden;\">\n",
      "            <div id='jxgbox1' class='jxgbox' style='width:500px; height:450px; float:left; border: solid #1f628d 2px;'></div>        \n",
      "        </div>\n",
      "        \n",
      "        \n",
      "        \n",
      "        <script type=\"text/javascript\" src=\"../../JS/jschannel.js\"></script>\n",
      "        <script type=\"text/javascript\" src=\"../../JS/edxintegration.js\"></script>\n",
      "        <script type=\"text/javascript\" src=\"../../JS/Macro_1Board.js\"></script>\n",
      "        <script type=\"text/javascript\" src=\"FP_LC2_HOA_8b.js\"></script>\n",
      "    </body>\n",
      "</html>\n"
     ]
    }
   ],
   "source": [
    "# reload(templateGenerator)\n",
    "inputCell = eval('_i%d' % tGen.findIPythonHTMLCell(_ih))\n",
    "htmlFile = tGen.scrapeHTMLfromIPython(inputCell)\n",
    "tGen.writeOutputFile(htmlFile)\n"
   ]
  },
  {
   "cell_type": "code",
   "execution_count": null,
   "metadata": {
    "collapsed": true
   },
   "outputs": [],
   "source": []
  }
 ],
 "metadata": {
  "kernelspec": {
   "display_name": "Python 2",
   "name": "python2"
  },
  "language_info": {
   "codemirror_mode": {
    "name": "ipython",
    "version": 2
   },
   "file_extension": ".py",
   "mimetype": "text/x-python",
   "name": "python",
   "nbconvert_exporter": "python",
   "pygments_lexer": "ipython2",
   "version": "2.7.9"
  }
 },
 "nbformat": 4,
 "nbformat_minor": 0
}