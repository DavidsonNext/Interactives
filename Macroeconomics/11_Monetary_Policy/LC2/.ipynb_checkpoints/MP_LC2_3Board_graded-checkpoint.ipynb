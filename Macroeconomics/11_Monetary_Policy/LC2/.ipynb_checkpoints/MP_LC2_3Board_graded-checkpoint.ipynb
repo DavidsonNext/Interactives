{
 "cells": [
  {
   "cell_type": "markdown",
   "metadata": {},
   "source": [
    "###Monetary Policy LC2 - 3 Board (suggestion from Sally and Brian Held)\n",
    "https://studio.edge.edx.org/container/i4x://DavidsonCollege/DAP002/vertical/5e27cf18f81d49af84d152950b919eff"
   ]
  },
  {
   "cell_type": "code",
   "execution_count": 1,
   "metadata": {
    "collapsed": false
   },
   "outputs": [
    {
     "name": "stdout",
     "output_type": "stream",
     "text": [
      "JSinput Ipython Workflow. Below are parameters of your template:\n",
      "\n",
      "Course: DavidsonCollege/DAP002/3T2014\n",
      "Title: Prototype 3 Board\n",
      "JS - main Javascript File: MP_LC2_3Board_graded.js\n",
      "MacroJS - file for generalized functions: ../../JS/Macro_3Board.js\n",
      "MacroCSS - if you have it: Macro_1Board.css\n",
      "OutputFile: MP_LC2_3Board_graded.html\n"
     ]
    }
   ],
   "source": [
    "import sys\n",
    "import re\n",
    "sys.path.append('../../Python')\n",
    "\n",
    "import templateGenerator\n",
    "reload(templateGenerator)\n",
    "tGen = templateGenerator.templateGenerator(course_id='DavidsonCollege/DAP002/3T2014',\n",
    "                                           Title='Prototype 3 Board',\n",
    "                                           MacroJS='../../JS/Macro_3Board.js',\n",
    "                                           JS='MP_LC2_3Board_graded.js',\n",
    "                                           OutputFile='MP_LC2_3Board_graded.html',\n",
    "                                           studioPaths=False \n",
    "                                          )"
   ]
  },
  {
   "cell_type": "code",
   "execution_count": 5,
   "metadata": {
    "collapsed": false,
    "scrolled": false
   },
   "outputs": [
    {
     "data": {
      "text/html": [
       "<!DOCTYPE html>\n",
       "<html>\n",
       "    <head>\n",
       "        <meta charset=\"UTF-8\">\n",
       "        <title></title>\n",
       "        <script type=\"text/javascript\" src=\"https://cdnjs.cloudflare.com/ajax/libs/jsxgraph/0.98/jsxgraphcore.js\"></script>\n",
       "        \n",
       "    </head>\n",
       "\n",
       "    <body>\n",
       "        <div style=\"width: 750;\">\n",
       "            <div id='jxgbox1' class='jxgbox' style='width:250px; height:240px; float:left; border: solid #1f628d 2px;'></div>        \n",
       "            <div id='jxgbox2' class='jxgbox' style='width:250px; height:240px; float:left; margin-left: 10px; border: solid #1f628d 2px;'></div>\n",
       "            <div id='jxgbox3' class='jxgbox' style='width:250px; height:240px; float:left; margin-left: 10px; border: solid #1f628d 2px;'></div>\n",
       "        </div>\n",
       "        \n",
       "        <!--START-BUTTON FOR PASS STATE-->\n",
       "        <div id='StateGrab' style='width:350px; float:left;'>        \n",
       "            <input class=\"btn\" type=\"button\" value=\"Get State\" onClick=\"getNotebookState()\">\n",
       "            <div id=\"spaceBelow\">State:</div>\n",
       "        </div>\n",
       "        <script type=\"text/javascript\">\n",
       "            getNotebookState = function(){\n",
       "                state = getGrade();\n",
       "                statestr = JSON.stringify(state);\n",
       "\n",
       "                document.getElementById('spaceBelow').innerHTML += '<br>'+statestr;\n",
       "                var command = \"state = \" + statestr;\n",
       "                console.log(command);\n",
       "\n",
       "                //Kernel\n",
       "                var kernel = IPython.notebook.kernel;\n",
       "                kernel.execute(command);\n",
       "\n",
       "                return statestr;\n",
       "            }\n",
       "        </script>\n",
       "        <!--END-BUTTON FOR PASS STATE-->\n",
       "        \n",
       "        <script type=\"text/javascript\" src=\"../../JS/jschannel.js\"></script>\n",
       "        <script type=\"text/javascript\" src=\"../../JS/edxintegration.js\"></script>\n",
       "        <script type=\"text/javascript\" src=\"../../JS/Macro_3Board.js\"></script>\n",
       "        <script type=\"text/javascript\" src=\"MP_LC2_3Board_graded.js\"></script>\n",
       "    </body>\n",
       "</html>"
      ],
      "text/plain": [
       "<IPython.core.display.HTML object>"
      ]
     },
     "metadata": {},
     "output_type": "display_data"
    }
   ],
   "source": [
    "%%HTML\n",
    "<!DOCTYPE html>\n",
    "<html>\n",
    "    <head>\n",
    "        <meta charset=\"UTF-8\">\n",
    "        <title></title>\n",
    "        <script type=\"text/javascript\" src=\"https://cdnjs.cloudflare.com/ajax/libs/jsxgraph/0.98/jsxgraphcore.js\"></script>\n",
    "        \n",
    "    </head>\n",
    "\n",
    "    <body>\n",
    "        <div style=\"width: 750;\">\n",
    "            <div id='jxgbox1' class='jxgbox' style='width:250px; height:240px; float:left; border: solid #1f628d 2px;'></div>        \n",
    "            <div id='jxgbox2' class='jxgbox' style='width:250px; height:240px; float:left; margin-left: 10px; border: solid #1f628d 2px;'></div>\n",
    "            <div id='jxgbox3' class='jxgbox' style='width:250px; height:240px; float:left; margin-left: 10px; border: solid #1f628d 2px;'></div>\n",
    "        </div>\n",
    "        \n",
    "        <!--START-BUTTON FOR PASS STATE-->\n",
    "        <div id='StateGrab' style='width:350px; float:left;'>        \n",
    "            <input class=\"btn\" type=\"button\" value=\"Get State\" onClick=\"getNotebookState()\">\n",
    "            <div id=\"spaceBelow\">State:</div>\n",
    "        </div>\n",
    "        <script type=\"text/javascript\">\n",
    "            getNotebookState = function(){\n",
    "                state = getGrade();\n",
    "                statestr = JSON.stringify(state);\n",
    "\n",
    "                document.getElementById('spaceBelow').innerHTML += '<br>'+statestr;\n",
    "                var command = \"state = \" + statestr;\n",
    "                console.log(command);\n",
    "\n",
    "                //Kernel\n",
    "                var kernel = IPython.notebook.kernel;\n",
    "                kernel.execute(command);\n",
    "\n",
    "                return statestr;\n",
    "            }\n",
    "        </script>\n",
    "        <!--END-BUTTON FOR PASS STATE-->\n",
    "        \n",
    "        <script type=\"text/javascript\" src=\"../../JS/jschannel.js\"></script>\n",
    "        <script type=\"text/javascript\" src=\"../../JS/edxintegration.js\"></script>\n",
    "        <script type=\"text/javascript\" src=\"../../JS/Macro_3Board.js\"></script>\n",
    "        <script type=\"text/javascript\" src=\"MP_LC2_3Board_graded.js\"></script>\n",
    "    </body>\n",
    "</html>"
   ]
  },
  {
   "cell_type": "markdown",
   "metadata": {},
   "source": [
    "###Python Grading"
   ]
  },
  {
   "cell_type": "code",
   "execution_count": 3,
   "metadata": {
    "collapsed": false
   },
   "outputs": [
    {
     "name": "stdout",
     "output_type": "stream",
     "text": [
      "{u'sliderB1': 0, u'sliderB3': 0, u'sliderB2': 0}\n",
      "{'msg': 'Error grading interactive. Please contact Davidson Next.', 'ok': False}\n"
     ]
    }
   ],
   "source": [
    "import json   \n",
    "\n",
    "def grader(e, ans):\n",
    "    answer = json.loads(ans)#['answer']\n",
    "    #return {'ok': False, 'msg': '%s' % str(answer)}\n",
    "    \n",
    "    print answer\n",
    "    if not answer['sliderB1'] and not answer['sliderB2'] and not answer['sliderB3']:\n",
    "        return {'ok': False, 'msg': 'Error grading interactive. Please contact Davidson Next.'}\n",
    "    \n",
    "    sliderValues = [answer['sliderB1'],answer['sliderB2'],answer['sliderB3']]\n",
    "    boards = ['Board 1', 'Board 2', 'Board 3']\n",
    "    corrects = [False, False, False]\n",
    "    \n",
    "    for i,s in enumerate(sliderValues):\n",
    "        if s > 1.1:\n",
    "            corrects[i] = True            \n",
    "    \n",
    "    errmsg = 'You have errors in: '\n",
    "    for i,c in enumerate(corrects):\n",
    "        if c == False:\n",
    "            errmsg += boards[i]\n",
    "            if i != len(corrects)-1:\n",
    "                errmsg += ',  '\n",
    "    \n",
    "    if len([c for c in corrects if c==True])==3:\n",
    "        return {'ok': True, 'msg': 'Good job.'}\n",
    "    else:\n",
    "        return {'ok': True, 'msg': errmsg}\n",
    "    \n",
    "print grader(\"huh?\",state)"
   ]
  },
  {
   "cell_type": "markdown",
   "metadata": {},
   "source": [
    "### Generate HTML File"
   ]
  },
  {
   "cell_type": "code",
   "execution_count": 4,
   "metadata": {
    "collapsed": false
   },
   "outputs": [
    {
     "name": "stdout",
     "output_type": "stream",
     "text": [
      "\n",
      "<!DOCTYPE html>\n",
      "<html>\n",
      "    <head>\n",
      "        <meta charset=\"UTF-8\">\n",
      "        <title>Prototype 3 Board</title>\n",
      "        <script type=\"text/javascript\" src=\"https://cdnjs.cloudflare.com/ajax/libs/jsxgraph/0.98/jsxgraphcore.js\"></script>\n",
      "        \n",
      "    </head>\n",
      "\n",
      "    <body>\n",
      "        <div style=\"width: 750;\">\n",
      "            <div id='jxgbox1' class='jxgbox' style='width:250px; height:240px; float:left; border: solid #1f628d 2px;'></div>        \n",
      "            <div id='jxgbox2' class='jxgbox' style='width:250px; height:240px; float:left; margin-left: 10px; border: solid #1f628d 2px;'></div>\n",
      "            <div id='jxgbox3' class='jxgbox' style='width:250px; height:240px; float:left; margin-left: 10px; border: solid #1f628d 2px;'></div>\n",
      "        </div>\n",
      "        \n",
      "        \n",
      "        \n",
      "        <script type=\"text/javascript\" src=\"../../JS/jschannel.js\"></script>\n",
      "        <script type=\"text/javascript\" src=\"../../JS/edxintegration.js\"></script>\n",
      "        <script type=\"text/javascript\" src=\"../../JS/Macro_3Board.js\"></script>\n",
      "        <script type=\"text/javascript\" src=\"MP_LC2_3Board_graded.js\"></script>\n",
      "    </body>\n",
      "</html>\n"
     ]
    }
   ],
   "source": [
    "# reload(templateGenerator)\n",
    "inputCell = eval('_i%d' % tGen.findIPythonHTMLCell(_ih))\n",
    "htmlFile = tGen.scrapeHTMLfromIPython(inputCell)\n",
    "tGen.writeOutputFile(htmlFile)\n"
   ]
  },
  {
   "cell_type": "code",
   "execution_count": null,
   "metadata": {
    "collapsed": true
   },
   "outputs": [],
   "source": []
  }
 ],
 "metadata": {
  "kernelspec": {
   "display_name": "Python 2",
   "name": "python2"
  },
  "language_info": {
   "codemirror_mode": {
    "name": "ipython",
    "version": 2
   },
   "file_extension": ".py",
   "mimetype": "text/x-python",
   "name": "python",
   "nbconvert_exporter": "python",
   "pygments_lexer": "ipython2",
   "version": "2.7.9"
  }
 },
 "nbformat": 4,
 "nbformat_minor": 0
}