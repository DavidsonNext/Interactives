{
 "cells": [
  {
   "cell_type": "markdown",
   "metadata": {},
   "source": [
    "###Monetary Policy LC2 - 3 Board (suggestion from Sally and Brian Held)\n",
    "https://studio.edge.edx.org/container/i4x://DavidsonCollege/DAP002/vertical/5e27cf18f81d49af84d152950b919eff"
   ]
  },
  {
   "cell_type": "code",
   "execution_count": 108,
   "metadata": {
    "collapsed": false
   },
   "outputs": [
    {
     "name": "stdout",
     "output_type": "stream",
     "text": [
      "JSinput Ipython Workflow. Below are parameters of your template:\n",
      "\n",
      "Course: DavidsonCollege/DAP002/3T2014\n",
      "Title: Prototype 3 Board\n",
      "JS - main Javascript File: MP_LC2_3Board.js\n",
      "MacroJS - file for generalized functions: ../../JS/Macro_3Board.js\n",
      "MacroCSS - if you have it: Macro_1Board.css\n",
      "OutputFile: MP_LC2_3Board.html\n"
     ]
    }
   ],
   "source": [
    "import sys\n",
    "import re\n",
    "sys.path.append('../../Python')\n",
    "\n",
    "import templateGenerator\n",
    "reload(templateGenerator)\n",
    "tGen = templateGenerator.templateGenerator(course_id='DavidsonCollege/DAP002/3T2014',\n",
    "                                           Title='Prototype 3 Board',\n",
    "                                           MacroJS='../../JS/Macro_3Board.js',\n",
    "                                           JS='MP_LC2_3Board.js',\n",
    "                                           OutputFile='MP_LC2_3Board.html',\n",
    "                                           studioPaths=False \n",
    "                                          )"
   ]
  },
  {
   "cell_type": "code",
   "execution_count": 123,
   "metadata": {
    "collapsed": false,
    "scrolled": false
   },
   "outputs": [
    {
     "data": {
      "text/html": [
       "<!DOCTYPE html>\n",
       "<html>\n",
       "    <head>\n",
       "        <meta charset=\"UTF-8\">\n",
       "        <title></title>\n",
       "        <script type=\"text/javascript\" src=\"https://cdnjs.cloudflare.com/ajax/libs/jsxgraph/0.98/jsxgraphcore.js\"></script>\n",
       "        \n",
       "    </head>\n",
       "\n",
       "    <body>\n",
       "        <div style=\"width: 750;\">\n",
       "            <div id='jxgbox1' class='jxgbox' style='width:250px; height:240px; float:left; border: solid #1f628d 2px;'></div>        \n",
       "            <div id='jxgbox2' class='jxgbox' style='width:250px; height:240px; float:left; margin-left: 10px; border: solid #1f628d 2px;'></div>\n",
       "            <div id='jxgbox3' class='jxgbox' style='width:250px; height:240px; float:left; margin-left: 10px; border: solid #1f628d 2px;'></div>\n",
       "        </div>\n",
       "        \n",
       "        <script type=\"text/javascript\" src=\"../../JS/Macro_3Board.js\"></script>\n",
       "        <script type=\"text/javascript\" src=\"MP_LC2_3Board.js\"></script>\n",
       "    </body>\n",
       "</html>"
      ],
      "text/plain": [
       "<IPython.core.display.HTML object>"
      ]
     },
     "metadata": {},
     "output_type": "display_data"
    }
   ],
   "source": [
    "%%HTML\n",
    "<!DOCTYPE html>\n",
    "<html>\n",
    "    <head>\n",
    "        <meta charset=\"UTF-8\">\n",
    "        <title></title>\n",
    "        <script type=\"text/javascript\" src=\"https://cdnjs.cloudflare.com/ajax/libs/jsxgraph/0.98/jsxgraphcore.js\"></script>\n",
    "        \n",
    "    </head>\n",
    "\n",
    "    <body>\n",
    "        <div style=\"width: 750;\">\n",
    "            <div id='jxgbox1' class='jxgbox' style='width:250px; height:240px; float:left; border: solid #1f628d 2px;'></div>        \n",
    "            <div id='jxgbox2' class='jxgbox' style='width:250px; height:240px; float:left; margin-left: 10px; border: solid #1f628d 2px;'></div>\n",
    "            <div id='jxgbox3' class='jxgbox' style='width:250px; height:240px; float:left; margin-left: 10px; border: solid #1f628d 2px;'></div>\n",
    "        </div>\n",
    "        \n",
    "        <script type=\"text/javascript\" src=\"../../JS/Macro_3Board.js\"></script>\n",
    "        <script type=\"text/javascript\" src=\"MP_LC2_3Board.js\"></script>\n",
    "    </body>\n",
    "</html>"
   ]
  },
  {
   "cell_type": "markdown",
   "metadata": {},
   "source": [
    "### Generate HTML File"
   ]
  },
  {
   "cell_type": "code",
   "execution_count": 114,
   "metadata": {
    "collapsed": false
   },
   "outputs": [
    {
     "name": "stdout",
     "output_type": "stream",
     "text": [
      "\n",
      "<!DOCTYPE html>\n",
      "<html>\n",
      "    <head>\n",
      "        <meta charset=\"UTF-8\">\n",
      "        <title>Prototype 3 Board</title>\n",
      "        <script type=\"text/javascript\" src=\"https://cdnjs.cloudflare.com/ajax/libs/jsxgraph/0.98/jsxgraphcore.js\"></script>\n",
      "        \n",
      "    </head>\n",
      "\n",
      "    <body>\n",
      "        <div style=\"width: 750; overflow: hidden;\">\n",
      "            <div id='jxgbox1' class='jxgbox' style='width:250px; height:240px; float:left; border: solid #1f628d 2px;'></div>        \n",
      "            <div id='jxgbox2' class='jxgbox' style='width:250px; height:240px; float:left; margin-left: 10px; border: solid #1f628d 2px;'></div>\n",
      "            <div id='jxgbox3' class='jxgbox' style='width:250px; height:240px; float:left; margin-left: 10px; border: solid #1f628d 2px;'></div>\n",
      "        </div>\n",
      "        \n",
      "        <script type=\"text/javascript\" src=\"../../JS/Macro_3Board.js\"></script>\n",
      "        <script type=\"text/javascript\" src=\"MP_LC2_3Board.js\"></script>\n",
      "    </body>\n",
      "</html>\n"
     ]
    }
   ],
   "source": [
    "# reload(templateGenerator)\n",
    "inputCell = eval('_i%d' % tGen.findIPythonHTMLCell(_ih))\n",
    "htmlFile = tGen.scrapeHTMLfromIPython(inputCell)\n",
    "tGen.writeOutputFile(htmlFile)\n"
   ]
  },
  {
   "cell_type": "code",
   "execution_count": null,
   "metadata": {
    "collapsed": true
   },
   "outputs": [],
   "source": []
  }
 ],
 "metadata": {
  "kernelspec": {
   "display_name": "Python 2",
   "name": "python2"
  },
  "language_info": {
   "codemirror_mode": {
    "name": "ipython",
    "version": 2
   },
   "file_extension": ".py",
   "mimetype": "text/x-python",
   "name": "python",
   "nbconvert_exporter": "python",
   "pygments_lexer": "ipython2",
   "version": "2.7.9"
  }
 },
 "nbformat": 4,
 "nbformat_minor": 0
}