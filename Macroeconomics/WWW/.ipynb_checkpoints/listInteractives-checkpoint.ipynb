{
 "cells": [
  {
   "cell_type": "code",
   "execution_count": 1,
   "metadata": {
    "collapsed": false
   },
   "outputs": [],
   "source": [
    "#!/usr/bin/env python\n",
    "import os\n",
    "from jinja2 import Environment, FileSystemLoader"
   ]
  },
  {
   "cell_type": "code",
   "execution_count": null,
   "metadata": {
    "collapsed": true
   },
   "outputs": [],
   "source": [
    " \n",
    "PATH = os.path.dirname(os.path.abspath(__file__))\n",
    "TEMPLATE_ENVIRONMENT = Environment(\n",
    "    autoescape=False,\n",
    "    loader=FileSystemLoader(os.path.join(PATH, 'templates')),\n",
    "    trim_blocks=False)\n",
    " \n",
    " \n",
    "def render_template(template_filename, context):\n",
    "    return TEMPLATE_ENVIRONMENT.get_template(template_filename).render(context)\n",
    " \n",
    " \n",
    "def create_index_html():\n",
    "    fname = \"output.html\"\n",
    "    urls = ['http://example.com/1', 'http://example.com/2', 'http://example.com/3']\n",
    "    context = {\n",
    "        'urls': urls\n",
    "    }\n",
    "    #\n",
    "    with open(fname, 'w') as f:\n",
    "        html = render_template('index.html', context)\n",
    "        f.write(html)\n",
    " \n",
    " \n",
    "def main():\n",
    "    create_index_html()\n",
    " \n",
    "########################################\n",
    " \n",
    "if __name__ == \"__main__\":\n",
    "    main()"
   ]
  },
  {
   "cell_type": "code",
   "execution_count": null,
   "metadata": {
    "collapsed": true
   },
   "outputs": [],
   "source": []
  },
  {
   "cell_type": "code",
   "execution_count": 12,
   "metadata": {
    "collapsed": true
   },
   "outputs": [],
   "source": [
    "iList = []\n",
    "for root, dirs, files in os.walk('../'):\n",
    "    for file in files:\n",
    "        if file.endswith('.html'):\n",
    "            iList.append(file)\n",
    "\n",
    "numInteractives = len(iList)\n",
    "            \n",
    "page = jinja.Template('''\n",
    "<!DOCTYPE html>\n",
    "<html>\n",
    "  <head>\n",
    "    <title>Flask Template Example</title>\n",
    "    <meta name=\"viewport\" content=\"width=device-width, initial-scale=1.0\">\n",
    "    <link href=\"http://netdna.bootstrapcdn.com/bootstrap/3.0.0/css/bootstrap.min.css\" rel=\"stylesheet\" media=\"screen\">\n",
    "    <style type=\"text/css\">\n",
    "      .container {\n",
    "        max-width: 500px;\n",
    "        padding-top: 100px;\n",
    "      }\n",
    "    </style>\n",
    "  </head>\n",
    "  <body>\n",
    "    <div class=\"container\">\n",
    "      <p>Number of Macro Interactives: {{numInteractives}}</p>\n",
    "      <p>Loop through the list:</p>\n",
    "      <ul>\n",
    "        {% for f in iList %}\n",
    "        <li>{{f}}</li>\n",
    "        {% endfor %}\n",
    "      </ul>\n",
    "    </div>\n",
    "    <script src=\"http://code.jquery.com/jquery-1.10.2.min.js\"></script>\n",
    "    <script src=\"http://netdna.bootstrapcdn.com/bootstrap/3.0.0/js/bootstrap.min.js\"></script>\n",
    "  </body>\n",
    "</html>\n",
    "''')"
   ]
  },
  {
   "cell_type": "code",
   "execution_count": 14,
   "metadata": {
    "collapsed": false
   },
   "outputs": [
    {
     "name": "stdout",
     "output_type": "stream",
     "text": [
      "\n",
      "<!DOCTYPE html>\n",
      "<html>\n",
      "  <head>\n",
      "    <title>Flask Template Example</title>\n",
      "    <meta name=\"viewport\" content=\"width=device-width, initial-scale=1.0\">\n",
      "    <link href=\"http://netdna.bootstrapcdn.com/bootstrap/3.0.0/css/bootstrap.min.css\" rel=\"stylesheet\" media=\"screen\">\n",
      "    <style type=\"text/css\">\n",
      "      .container {\n",
      "        max-width: 500px;\n",
      "        padding-top: 100px;\n",
      "      }\n",
      "    </style>\n",
      "  </head>\n",
      "  <body>\n",
      "    <div class=\"container\">\n",
      "      <p>Number of Macro Interactives: </p>\n",
      "      <p>Loop through the list:</p>\n",
      "      <ul>\n",
      "        \n",
      "      </ul>\n",
      "    </div>\n",
      "    <script src=\"http://code.jquery.com/jquery-1.10.2.min.js\"></script>\n",
      "    <script src=\"http://netdna.bootstrapcdn.com/bootstrap/3.0.0/js/bootstrap.min.js\"></script>\n",
      "  </body>\n",
      "</html>\n"
     ]
    }
   ],
   "source": [
    "print page.render()"
   ]
  },
  {
   "cell_type": "code",
   "execution_count": null,
   "metadata": {
    "collapsed": true
   },
   "outputs": [],
   "source": []
  }
 ],
 "metadata": {
  "kernelspec": {
   "display_name": "Python 2",
   "language": "python",
   "name": "python2"
  },
  "language_info": {
   "codemirror_mode": {
    "name": "ipython",
    "version": 2
   },
   "file_extension": ".py",
   "mimetype": "text/x-python",
   "name": "python",
   "nbconvert_exporter": "python",
   "pygments_lexer": "ipython2",
   "version": "2.7.3"
  }
 },
 "nbformat": 4,
 "nbformat_minor": 0
}
