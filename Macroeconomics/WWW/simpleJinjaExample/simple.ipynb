{
 "cells": [
  {
   "cell_type": "code",
   "execution_count": 23,
   "metadata": {
    "collapsed": false
   },
   "outputs": [],
   "source": [
    "import os\n",
    "PATH = os.path.dirname(os.path.abspath(\"__file__\"))\n",
    "from jinja2 import Environment, FileSystemLoader\n",
    "env = Environment(loader=FileSystemLoader(os.path.join(PATH, 'templates')))"
   ]
  },
  {
   "cell_type": "code",
   "execution_count": 28,
   "metadata": {
    "collapsed": false
   },
   "outputs": [
    {
     "name": "stdout",
     "output_type": "stream",
     "text": [
      "<!DOCTYPE html>\n",
      "<html lang=\"en\">\n",
      "<head>\n",
      "    \n",
      "    \n",
      "    <link rel=\"stylesheet\" href=\"style.css\" />\n",
      "    <title>Index - My Webpage</title>\n",
      "    \n",
      "    <style type=\"text/css\">\n",
      "        .important { color: #336699; }\n",
      "    </style>\n",
      "\n",
      "</head>\n",
      "<body>\n",
      "    <div id=\"content\">\n",
      "    <h1>Index</h1>\n",
      "    <p class=\"important\">\n",
      "      Welcome to my awesome homepage.\n",
      "    </p>\n",
      "</div>\n",
      "    <div id=\"footer\">\n",
      "        \n",
      "        &copy; Copyright 2008 by <a href=\"http://domain.invalid/\">you</a>.\n",
      "        \n",
      "    </div>\n",
      "</body>\n",
      "</html>\n"
     ]
    }
   ],
   "source": [
    "template = env.get_template('index.html')\n",
    "print template.render()"
   ]
  },
  {
   "cell_type": "code",
   "execution_count": 24,
   "metadata": {
    "collapsed": false
   },
   "outputs": [],
   "source": []
  },
  {
   "cell_type": "code",
   "execution_count": null,
   "metadata": {
    "collapsed": true
   },
   "outputs": [],
   "source": []
  },
  {
   "cell_type": "code",
   "execution_count": 12,
   "metadata": {
    "collapsed": true
   },
   "outputs": [],
   "source": []
  },
  {
   "cell_type": "code",
   "execution_count": 2,
   "metadata": {
    "collapsed": false
   },
   "outputs": [],
   "source": []
  },
  {
   "cell_type": "code",
   "execution_count": null,
   "metadata": {
    "collapsed": true
   },
   "outputs": [],
   "source": []
  }
 ],
 "metadata": {
  "kernelspec": {
   "display_name": "Python 2",
   "language": "python",
   "name": "python2"
  },
  "language_info": {
   "codemirror_mode": {
    "name": "ipython",
    "version": 2
   },
   "file_extension": ".py",
   "mimetype": "text/x-python",
   "name": "python",
   "nbconvert_exporter": "python",
   "pygments_lexer": "ipython2",
   "version": "2.7.3"
  }
 },
 "nbformat": 4,
 "nbformat_minor": 0
}
