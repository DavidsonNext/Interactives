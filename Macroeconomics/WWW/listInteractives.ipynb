{
 "cells": [
  {
   "cell_type": "code",
   "execution_count": 1,
   "metadata": {
    "collapsed": false
   },
   "outputs": [],
   "source": [
    "#!/usr/bin/env python\n",
    "import os\n",
    "from jinja2 import Environment, FileSystemLoader"
   ]
  },
  {
   "cell_type": "code",
   "execution_count": 20,
   "metadata": {
    "collapsed": false
   },
   "outputs": [
    {
     "name": "stdout",
     "output_type": "stream",
     "text": [
      "https://dnextinteractives.s3.amazonaws.com/Macroeconomics/10_Money_Creation/LC2/p7_ActTable_MoneyCreation_LC2_HOA2.xml\n",
      "https://dnextinteractives.s3.amazonaws.com/Macroeconomics/12_Loanable_Funds/LC1/p6_ActTable_LoanableFunds_LC1_HOA3.xml\n",
      "Ignore folder: ../OldStructure/Aggregate_Demand/LC1\n",
      "Ignore folder: ../OldStructure/Aggregate_Demand/LC1\n",
      "Ignore folder: ../OldStructure/Aggregate_Demand/LC1\n",
      "Ignore folder: ../OldStructure/Aggregate_Demand/LC1\n",
      "Ignore folder: ../OldStructure/Aggregate_Demand/LC1\n",
      "Ignore folder: ../OldStructure/Aggregate_Demand/LC1\n",
      "Ignore folder: ../OldStructure/Loanable_Funds\n",
      "Ignore folder: ../OldStructure/Loanable_Funds\n",
      "Ignore folder: ../OldStructure/Money_and_the_Money_Market/LC2\n",
      "Ignore folder: ../OldStructure/Money_and_the_Money_Market/LC2\n",
      "Ignore folder: ../OldStructure/Money_and_the_Money_Market/LC2\n",
      "Ignore folder: ../OldStructure/Money_and_the_Money_Market/LC2/old\n",
      "Ignore folder: ../OldStructure/Money_and_the_Money_Market/LC2_Activity2_ActiveTable\n",
      "Ignore folder: ../OldStructure/Money_and_the_Money_Market/LC3\n",
      "Ignore folder: ../OldStructure/Money_and_the_Money_Market/LC3_Sally\n",
      "Ignore folder: ../OldStructure/Money_and_the_Money_Market/LC3_Sally\n",
      "Ignore folder: ../OldStructure/Money_and_the_Money_Market/LC3_Sally\n",
      "Ignore folder: ../OldStructure/Money_and_the_Money_Market/LC3_Sally\n",
      "Ignore folder: ../OldStructure/Money_and_the_Money_Market/LC3_Sally\n",
      "Ignore folder: ../OldStructure/Money_and_the_Money_Market/LC4\n",
      "Ignore folder: ../OldStructure/Money_and_the_Money_Market/LC4\n",
      "Ignore folder: ../OldStructure/Money_and_the_Money_Market/LC4\n",
      "Ignore folder: ../OldStructure/Money_and_the_Money_Market/old_LC3\n",
      "Ignore folder: ../OldStructure/Moving_to_Long_Run_Equlibrium/LC2\n",
      "Ignore folder: ../OldStructure/Moving_to_Long_Run_Equlibrium/LC2\n",
      "Ignore folder: ../OldStructure/Moving_to_Long_Run_Equlibrium/LC2\n",
      "Ignore folder: ../OldStructure/Moving_to_Long_Run_Equlibrium/LC3\n",
      "Ignore folder: ../OldStructure/Moving_to_Long_Run_Equlibrium/LC3\n",
      "Ignore folder: ../OldStructure/Phillips_Curve/LC1\n",
      "Ignore folder: ../OldStructure/Phillips_Curve/LC1\n",
      "Ignore folder: ../OldStructure/Phillips_Curve/LC1\n",
      "Ignore folder: ../OldStructure/Phillips_Curve/LC2\n",
      "Ignore folder: ../OldStructure/Phillips_Curve/LC2\n",
      "Ignore folder: ../OldStructure/Phillips_Curve/LC2\n",
      "Ignore folder: ../OldStructure/Phillips_Curve/LC3\n",
      "Ignore folder: ../OldStructure/Phillips_Curve/LC3\n",
      "Ignore folder: ../OldStructure/Phillips_Curve/LC3\n",
      "Ignore folder: ../OldStructure/Phillips_Curve/LC3\n",
      "Ignore folder: ../OldStructure/Phillips_Curve/LC3\n",
      "Ignore folder: ../OldStructure/refactor\n",
      "Ignore folder: ../OldStructure/Template_1.0\n",
      "Ignore folder: ../WWW\n",
      "Ignore folder: ../WWW\n",
      "Ignore folder: ../WWW/templates\n"
     ]
    }
   ],
   "source": [
    "PATH = os.path.dirname(os.path.abspath(\"__file__\"))\n",
    "TEMPLATE_ENVIRONMENT = Environment(\n",
    "    autoescape=False,\n",
    "    loader=FileSystemLoader(os.path.join(PATH, 'templates')),\n",
    "    trim_blocks=False)\n",
    " \n",
    " \n",
    "def render_template(template_filename, context):\n",
    "    return TEMPLATE_ENVIRONMENT.get_template(template_filename).render(context)\n",
    " \n",
    "def crawl_directory_for_html(directory):\n",
    "    iList=[]\n",
    "    actList=[]\n",
    "    for dirpath, subdirs, files in os.walk(directory):\n",
    "        for file in files:\n",
    "            relURL = os.path.join(dirpath, file)\n",
    "            baseURL = 'https://dnextinteractives.s3.amazonaws.com/Macroeconomics/'\n",
    "            URL = baseURL + relURL.lstrip('../')\n",
    "            if file.endswith('.html'):\n",
    "                if \"OldStructure\" in URL or \"WWW\" in URL: \n",
    "                    print \"Ignore folder: %s\" % dirpath\n",
    "                else:\n",
    "                    iList.append(URL)\n",
    "    \n",
    "            if \"ActTable\" in file:\n",
    "                print URL\n",
    "                actList.append(URL)\n",
    "    \n",
    "    return iList, actList\n",
    "\n",
    "def create_index_html():\n",
    "    fname = \"MacroInteractives.html\"\n",
    "    iList, actList = crawl_directory_for_html('../')\n",
    "    context = {\n",
    "        'TotalInteractives': len(iList) + len(actList),\n",
    "        'JSXlist': iList,\n",
    "        'actList': actList\n",
    "    }\n",
    "    #\n",
    "    with open(fname, 'w') as f:\n",
    "        html = render_template('index.html', context)\n",
    "        f.write(html)\n",
    " \n",
    " \n",
    "def main():\n",
    "    create_index_html()\n",
    " \n",
    "########################################\n",
    " \n",
    "if __name__ == \"__main__\":\n",
    "    main()"
   ]
  },
  {
   "cell_type": "code",
   "execution_count": null,
   "metadata": {
    "collapsed": true
   },
   "outputs": [],
   "source": []
  },
  {
   "cell_type": "code",
   "execution_count": 12,
   "metadata": {
    "collapsed": true
   },
   "outputs": [],
   "source": []
  },
  {
   "cell_type": "code",
   "execution_count": 2,
   "metadata": {
    "collapsed": false
   },
   "outputs": [],
   "source": []
  },
  {
   "cell_type": "code",
   "execution_count": null,
   "metadata": {
    "collapsed": true
   },
   "outputs": [],
   "source": []
  }
 ],
 "metadata": {
  "kernelspec": {
   "display_name": "Python 2",
   "language": "python",
   "name": "python2"
  },
  "language_info": {
   "codemirror_mode": {
    "name": "ipython",
    "version": 2
   },
   "file_extension": ".py",
   "mimetype": "text/x-python",
   "name": "python",
   "nbconvert_exporter": "python",
   "pygments_lexer": "ipython2",
   "version": "2.7.3"
  }
 },
 "nbformat": 4,
 "nbformat_minor": 0
}
