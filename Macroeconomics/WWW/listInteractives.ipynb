{
 "cells": [
  {
   "cell_type": "code",
   "execution_count": 2,
   "metadata": {
    "collapsed": false
   },
   "outputs": [],
   "source": [
    "#!/usr/bin/env python\n",
    "import os\n",
    "from jinja2 import Environment, FileSystemLoader"
   ]
  },
  {
   "cell_type": "code",
   "execution_count": 14,
   "metadata": {
    "collapsed": false
   },
   "outputs": [
    {
     "name": "stdout",
     "output_type": "stream",
     "text": [
      "Ignore folder: ../OldStructure/Aggregate_Demand/LC1\n",
      "Ignore folder: ../OldStructure/Aggregate_Demand/LC1\n",
      "Ignore folder: ../OldStructure/Aggregate_Demand/LC1\n",
      "Ignore folder: ../OldStructure/Aggregate_Demand/LC1\n",
      "Ignore folder: ../OldStructure/Aggregate_Demand/LC1\n",
      "Ignore folder: ../OldStructure/Aggregate_Demand/LC1\n",
      "Ignore folder: ../OldStructure/Loanable_Funds\n",
      "Ignore folder: ../OldStructure/Loanable_Funds\n",
      "Ignore folder: ../OldStructure/Money_and_the_Money_Market/LC2\n",
      "Ignore folder: ../OldStructure/Money_and_the_Money_Market/LC2\n",
      "Ignore folder: ../OldStructure/Money_and_the_Money_Market/LC2\n",
      "Ignore folder: ../OldStructure/Money_and_the_Money_Market/LC2/old\n",
      "Ignore folder: ../OldStructure/Money_and_the_Money_Market/LC2_Activity2_ActiveTable\n",
      "Ignore folder: ../OldStructure/Money_and_the_Money_Market/LC3\n",
      "Ignore folder: ../OldStructure/Money_and_the_Money_Market/LC3_Sally\n",
      "Ignore folder: ../OldStructure/Money_and_the_Money_Market/LC3_Sally\n",
      "Ignore folder: ../OldStructure/Money_and_the_Money_Market/LC3_Sally\n",
      "Ignore folder: ../OldStructure/Money_and_the_Money_Market/LC3_Sally\n",
      "Ignore folder: ../OldStructure/Money_and_the_Money_Market/LC3_Sally\n",
      "Ignore folder: ../OldStructure/Money_and_the_Money_Market/LC4\n",
      "Ignore folder: ../OldStructure/Money_and_the_Money_Market/LC4\n",
      "Ignore folder: ../OldStructure/Money_and_the_Money_Market/LC4\n",
      "Ignore folder: ../OldStructure/Money_and_the_Money_Market/old_LC3\n",
      "Ignore folder: ../OldStructure/Moving_to_Long_Run_Equlibrium/LC2\n",
      "Ignore folder: ../OldStructure/Moving_to_Long_Run_Equlibrium/LC2\n",
      "Ignore folder: ../OldStructure/Moving_to_Long_Run_Equlibrium/LC2\n",
      "Ignore folder: ../OldStructure/Moving_to_Long_Run_Equlibrium/LC3\n",
      "Ignore folder: ../OldStructure/Moving_to_Long_Run_Equlibrium/LC3\n",
      "Ignore folder: ../OldStructure/Phillips_Curve/LC1\n",
      "Ignore folder: ../OldStructure/Phillips_Curve/LC1\n",
      "Ignore folder: ../OldStructure/Phillips_Curve/LC1\n",
      "Ignore folder: ../OldStructure/Phillips_Curve/LC2\n",
      "Ignore folder: ../OldStructure/Phillips_Curve/LC2\n",
      "Ignore folder: ../OldStructure/Phillips_Curve/LC2\n",
      "Ignore folder: ../OldStructure/Phillips_Curve/LC3\n",
      "Ignore folder: ../OldStructure/Phillips_Curve/LC3\n",
      "Ignore folder: ../OldStructure/Phillips_Curve/LC3\n",
      "Ignore folder: ../OldStructure/Phillips_Curve/LC3\n",
      "Ignore folder: ../OldStructure/Phillips_Curve/LC3\n",
      "Ignore folder: ../OldStructure/refactor\n",
      "Ignore folder: ../OldStructure/Template_1.0\n",
      "Ignore folder: ../WWW\n",
      "Ignore folder: ../WWW\n",
      "Ignore folder: ../WWW/templates\n"
     ]
    }
   ],
   "source": [
    "PATH = os.path.dirname(os.path.abspath(\"__file__\"))\n",
    "TEMPLATE_ENVIRONMENT = Environment(\n",
    "    autoescape=False,\n",
    "    loader=FileSystemLoader(os.path.join(PATH, 'templates')),\n",
    "    trim_blocks=False)\n",
    " \n",
    " \n",
    "def render_template(template_filename, context):\n",
    "    return TEMPLATE_ENVIRONMENT.get_template(template_filename).render(context)\n",
    " \n",
    "def crawl_directory_for_html(directory):\n",
    "    iList=[]\n",
    "    for dirpath, subdirs, files in os.walk(directory):\n",
    "        for file in files:\n",
    "            if file.endswith('.html'):\n",
    "                relURL = os.path.join(dirpath, file)\n",
    "                baseURL = 'https://dnextinteractives.s3.amazonaws.com/Macroeconomics/'\n",
    "                URL = baseURL + relURL.lstrip('../')\n",
    "                if \"OldStructure\" in URL or \"WWW\" in URL: \n",
    "                    print \"Ignore folder: %s\" % dirpath\n",
    "                else:\n",
    "                    iList.append(URL)\n",
    "    return iList\n",
    "\n",
    "def create_index_html():\n",
    "    fname = \"MacroInteractives.html\"\n",
    "    iList = crawl_directory_for_html('../')\n",
    "    context = {\n",
    "        'urls': iList\n",
    "    }\n",
    "    #\n",
    "    with open(fname, 'w') as f:\n",
    "        html = render_template('index.html', context)\n",
    "        f.write(html)\n",
    " \n",
    " \n",
    "def main():\n",
    "    create_index_html()\n",
    " \n",
    "########################################\n",
    " \n",
    "if __name__ == \"__main__\":\n",
    "    main()"
   ]
  },
  {
   "cell_type": "code",
   "execution_count": null,
   "metadata": {
    "collapsed": true
   },
   "outputs": [],
   "source": []
  },
  {
   "cell_type": "code",
   "execution_count": 12,
   "metadata": {
    "collapsed": true
   },
   "outputs": [],
   "source": []
  },
  {
   "cell_type": "code",
   "execution_count": 14,
   "metadata": {
    "collapsed": false
   },
   "outputs": [
    {
     "name": "stdout",
     "output_type": "stream",
     "text": [
      "\n",
      "<!DOCTYPE html>\n",
      "<html>\n",
      "  <head>\n",
      "    <title>Flask Template Example</title>\n",
      "    <meta name=\"viewport\" content=\"width=device-width, initial-scale=1.0\">\n",
      "    <link href=\"http://netdna.bootstrapcdn.com/bootstrap/3.0.0/css/bootstrap.min.css\" rel=\"stylesheet\" media=\"screen\">\n",
      "    <style type=\"text/css\">\n",
      "      .container {\n",
      "        max-width: 500px;\n",
      "        padding-top: 100px;\n",
      "      }\n",
      "    </style>\n",
      "  </head>\n",
      "  <body>\n",
      "    <div class=\"container\">\n",
      "      <p>Number of Macro Interactives: </p>\n",
      "      <p>Loop through the list:</p>\n",
      "      <ul>\n",
      "        \n",
      "      </ul>\n",
      "    </div>\n",
      "    <script src=\"http://code.jquery.com/jquery-1.10.2.min.js\"></script>\n",
      "    <script src=\"http://netdna.bootstrapcdn.com/bootstrap/3.0.0/js/bootstrap.min.js\"></script>\n",
      "  </body>\n",
      "</html>\n"
     ]
    }
   ],
   "source": [
    "print page.render()"
   ]
  },
  {
   "cell_type": "code",
   "execution_count": null,
   "metadata": {
    "collapsed": true
   },
   "outputs": [],
   "source": []
  }
 ],
 "metadata": {
  "kernelspec": {
   "display_name": "Python 2",
   "language": "python",
   "name": "python2"
  },
  "language_info": {
   "codemirror_mode": {
    "name": "ipython",
    "version": 2
   },
   "file_extension": ".py",
   "mimetype": "text/x-python",
   "name": "python",
   "nbconvert_exporter": "python",
   "pygments_lexer": "ipython2",
   "version": "2.7.3"
  }
 },
 "nbformat": 4,
 "nbformat_minor": 0
}
