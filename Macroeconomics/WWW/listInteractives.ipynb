{
 "cells": [
  {
   "cell_type": "code",
   "execution_count": 15,
   "metadata": {
    "collapsed": false
   },
   "outputs": [],
   "source": [
    "#!/usr/bin/env python\n",
    "import os\n",
    "from jinja2 import Environment, FileSystemLoader"
   ]
  },
  {
   "cell_type": "code",
   "execution_count": 20,
   "metadata": {
    "collapsed": false
   },
   "outputs": [],
   "source": [
    "PATH = os.path.dirname(os.path.abspath(\"__file__\"))\n",
    "TEMPLATE_ENVIRONMENT = Environment(\n",
    "    autoescape=False,\n",
    "    loader=FileSystemLoader(os.path.join(PATH, 'templates')),\n",
    "    trim_blocks=False)\n",
    " \n",
    "def render_template(template_filename, context):\n",
    "    return TEMPLATE_ENVIRONMENT.get_template(template_filename).render(context)\n",
    " \n",
    "def crawl_directory_for_html(directory):\n",
    "    iList=[]\n",
    "    actList=[]\n",
    "    for dirpath, subdirs, files in os.walk(directory):\n",
    "        for file in files:\n",
    "            relURL = os.path.join(dirpath, file)  #e.g., ../11_Loanable_Funds/LC1/(file.html)\n",
    "            unit = relURL.split('/')[0]  #e.g., 11_Loanable_Funds\n",
    "            baseURL = 'https://dnextinteractives.s3.amazonaws.com/Macroeconomics/'\n",
    "            \n",
    "            #Create S3 Link\n",
    "            link = baseURL + relURL.lstrip('../')\n",
    "            if file.endswith('.html'):\n",
    "                if \"OldStructure\" in link or \"WWW\" in link: \n",
    "                    a = True\n",
    "#                     print \"Ignore folder: %s\" % dirpath\n",
    "                else:\n",
    "                    iList.append(link)\n",
    "    \n",
    "            if \"ActTable\" in file:\n",
    "#                 print link\n",
    "                actList.append(link)\n",
    "            \n",
    "    return iList, actList \n",
    "\n",
    "def create_index_html():\n",
    "    fname = \"MacroInteractives.html\"\n",
    "    iList, actList = crawl_directory_for_html('../')\n",
    "    context = {\n",
    "        'TotalInteractives': len(iList) + len(actList),\n",
    "        'JSXlist': iList,\n",
    "        'actList': actList\n",
    "    }\n",
    "    \n",
    "    with open(fname, 'w') as f:\n",
    "        html = render_template('interactives.html', context)\n",
    "        f.write(html)\n",
    " \n",
    " \n",
    "def main():\n",
    "    create_index_html()\n",
    " \n",
    "########################################\n",
    " \n",
    "if __name__ == \"__main__\":\n",
    "    main()"
   ]
  },
  {
   "cell_type": "code",
   "execution_count": null,
   "metadata": {
    "collapsed": true
   },
   "outputs": [],
   "source": []
  },
  {
   "cell_type": "code",
   "execution_count": 12,
   "metadata": {
    "collapsed": true
   },
   "outputs": [],
   "source": []
  },
  {
   "cell_type": "code",
   "execution_count": 2,
   "metadata": {
    "collapsed": false
   },
   "outputs": [],
   "source": []
  },
  {
   "cell_type": "code",
   "execution_count": null,
   "metadata": {
    "collapsed": true
   },
   "outputs": [],
   "source": []
  }
 ],
 "metadata": {
  "kernelspec": {
   "display_name": "Python 2",
   "name": "python2"
  },
  "language_info": {
   "codemirror_mode": {
    "name": "ipython",
    "version": 2
   },
   "file_extension": ".py",
   "mimetype": "text/x-python",
   "name": "python",
   "nbconvert_exporter": "python",
   "pygments_lexer": "ipython2",
   "version": "2.7.9"
  }
 },
 "nbformat": 4,
 "nbformat_minor": 0
}