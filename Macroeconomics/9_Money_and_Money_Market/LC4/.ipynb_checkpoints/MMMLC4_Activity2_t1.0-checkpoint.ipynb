{
 "cells": [
  {
   "cell_type": "markdown",
   "metadata": {},
   "source": [
    "###HTML Interactive Area"
   ]
  },
  {
   "cell_type": "code",
   "execution_count": 3,
   "metadata": {
    "collapsed": false
   },
   "outputs": [
    {
     "data": {
      "text/html": [
       "<html>\n",
       "    <head>\n",
       "        <meta charset=\"UTF-8\">\n",
       "        <title>Money and the Money Market - Activity 2</title>\n",
       "        <link href=\"MMMLC4_Activity2_t1.0.css\" rel=\"stylesheet\" type=\"text/css\">\n",
       "        <script type=\"text/javascript\" src=\"https://cdnjs.cloudflare.com/ajax/libs/jsxgraph/0.98/jsxgraphcore.js\"></script>\n",
       "        <script type=\"text/javascript\" src=\"../../JS/Macro_t1.0.js\" defer></script>\n",
       "        \n",
       "        <script type=\"text/javascript\" src=\"MMMLC4_Activity2_t1.0.js\" defer></script>\n",
       "    </head>\n",
       "\n",
       "    <body> \n",
       "        <div style=\"width: 100%; overflow: hidden;\">\n",
       "            <div id='jxgbox1' class='jxgbox' style='width:550px; height:450px; float:left; border: solid #1f628d 2px;'></div>        \n",
       "        </div>\n",
       "        \n",
       "        <div class=\"line\">\n",
       "            <input class=\"btn\" type=\"button\" value=\"Start Animation\" onClick=\"decreaseXY()\">\n",
       "            <input class=\"btn\" type=\"button\" value=\"Reset\" onClick=\"resetAnimation()\">\n",
       "        </div>\n",
       "        \n",
       "        <!--START-BUTTON FOR PASS STATE-->\n",
       "        <!-- ------------------------------------------------------------------------------- -->\n",
       "        <div id='StateGrab' style='width:350px; float:left;'>        \n",
       "            <input class=\"btn\" type=\"button\" value=\"Get State\" onClick=\"getNotebookState()\">\n",
       "            <div id=\"spaceBelow\">State:</div>\n",
       "        </div>\n",
       "        <script type=\"text/javascript\">\n",
       "            getNotebookState = function(){\n",
       "                state = getInput();\n",
       "                statestr = JSON.stringify(state);\n",
       "\n",
       "                document.getElementById('spaceBelow').innerHTML += '<br>'+statestr;\n",
       "                var command = \"state = \" + statestr;\n",
       "                console.log(command);\n",
       "\n",
       "                //Kernel\n",
       "                var kernel = IPython.notebook.kernel;\n",
       "                kernel.execute(command);\n",
       "\n",
       "                return statestr;\n",
       "            }\n",
       "        </script>\n",
       "        <!-- ------------------------------------------------------------------------------- -->\n",
       "        <!--END-BUTTON FOR PASS STATE-->\n",
       "        \n",
       "    </body>\n",
       "</html>"
      ],
      "text/plain": [
       "<IPython.core.display.HTML object>"
      ]
     },
     "metadata": {},
     "output_type": "display_data"
    }
   ],
   "source": [
    "%%HTML\n",
    "<html>\n",
    "    <head>\n",
    "        <meta charset=\"UTF-8\">\n",
    "        <title>Money and the Money Market - Activity 2</title>\n",
    "        <link href=\"MMMLC4_Activity2_t1.0.css\" rel=\"stylesheet\" type=\"text/css\">\n",
    "        <script type=\"text/javascript\" src=\"https://cdnjs.cloudflare.com/ajax/libs/jsxgraph/0.98/jsxgraphcore.js\"></script>\n",
    "        <script type=\"text/javascript\" src=\"../../JS/Macro_t1.0.js\" defer></script>\n",
    "        \n",
    "        <script type=\"text/javascript\" src=\"MMMLC4_Activity2_t1.0.js\" defer></script>\n",
    "    </head>\n",
    "\n",
    "    <body> \n",
    "        <div style=\"width: 100%; overflow: hidden;\">\n",
    "            <div id='jxgbox1' class='jxgbox' style='width:550px; height:450px; float:left; border: solid #1f628d 2px;'></div>        \n",
    "        </div>\n",
    "        \n",
    "        <div class=\"line\">\n",
    "            <input class=\"btn\" type=\"button\" value=\"Start Animation\" onClick=\"decreaseXY()\">\n",
    "            <input class=\"btn\" type=\"button\" value=\"Reset\" onClick=\"resetAnimation()\">\n",
    "        </div>\n",
    "        \n",
    "        <!--START-BUTTON FOR PASS STATE-->\n",
    "        <!-- ------------------------------------------------------------------------------- -->\n",
    "        <div id='StateGrab' style='width:350px; float:left;'>        \n",
    "            <input class=\"btn\" type=\"button\" value=\"Get State\" onClick=\"getNotebookState()\">\n",
    "            <div id=\"spaceBelow\">State:</div>\n",
    "        </div>\n",
    "        <script type=\"text/javascript\">\n",
    "            getNotebookState = function(){\n",
    "                state = getInput();\n",
    "                statestr = JSON.stringify(state);\n",
    "\n",
    "                document.getElementById('spaceBelow').innerHTML += '<br>'+statestr;\n",
    "                var command = \"state = \" + statestr;\n",
    "                console.log(command);\n",
    "\n",
    "                //Kernel\n",
    "                var kernel = IPython.notebook.kernel;\n",
    "                kernel.execute(command);\n",
    "\n",
    "                return statestr;\n",
    "            }\n",
    "        </script>\n",
    "        <!-- ------------------------------------------------------------------------------- -->\n",
    "        <!--END-BUTTON FOR PASS STATE-->\n",
    "        \n",
    "    </body>\n",
    "</html>"
   ]
  },
  {
   "cell_type": "markdown",
   "metadata": {
    "collapsed": true
   },
   "source": [
    "### Generate HTML File"
   ]
  },
  {
   "cell_type": "code",
   "execution_count": 46,
   "metadata": {
    "collapsed": false
   },
   "outputs": [
    {
     "name": "stdout",
     "output_type": "stream",
     "text": [
      "\n",
      "<html>\n",
      "    <head>\n",
      "        <meta charset=\"UTF-8\">\n",
      "        <title>Money and the Money Market - Activity 2</title>\n",
      "        <link src=\"/c4x/DavidsonCollege/DAP002/asset/MMMLC4_Activity2_t1.0.css\" rel=\"stylesheet\" type=\"text/css\">\n",
      "        <script type=\"text/javascript\" src=\"https://cdnjs.cloudflare.com/ajax/libs/jsxgraph/0.98/jsxgraphcore.js\"></script>\n",
      "        <script type=\"text/javascript\" src=\"/c4x/DavidsonCollege/DAP002/asset/Macro_t1.0.js\" defer></script>\n",
      "        \n",
      "        <script type=\"text/javascript\" src=\"/c4x/DavidsonCollege/DAP002/asset/MMMLC4_Activity2_t1.0.js\" defer></script>\n",
      "    </head>\n",
      "\n",
      "    <body> \n",
      "        <div style=\"width: 100%; overflow: hidden;\">\n",
      "            <div id='jxgbox1' class='jxgbox' style='width:550px; height:450px; float:left; border: solid #1f628d 2px;'></div>        \n",
      "        </div>\n",
      "        \n",
      "        <div class=\"line\">\n",
      "            <input class=\"btn\" type=\"button\" value=\"Start Animation\" onClick=\"decreaseXY()\">\n",
      "            <input class=\"btn\" type=\"button\" value=\"Reset\" onClick=\"resetAnimation()\">\n",
      "        </div>\n",
      "        \n",
      "        \n",
      "        \n",
      "    </body>\n",
      "</html>\n"
     ]
    }
   ],
   "source": [
    "import re\n",
    "\n",
    "### Find the HTML cell within the IPython inputs\n",
    "index_htmlinput = [ i for i,x in enumerate(_ih) if \"run_cell_magic(u'HTML'\" in x and \"re.sub('%%HTML','',tmpfile)\" not in x]\n",
    "\n",
    "tmpfile = eval('_i%d' % int(index_htmlinput[-1]))\n",
    "tmpfile = re.sub('%%HTML','',tmpfile)\n",
    "\n",
    "### Remove IPython specific commands\n",
    "tmpfile = re.sub(r'<!--START-BUTTON FOR PASS STATE(.*?)END-BUTTON FOR PASS STATE-->','',tmpfile,flags=re.DOTALL)\n",
    "tmpfile = re.sub(r'//START-PASS STATE TO IPYTHON KERNEL(.*?)//END-PASS STATE TO IPYTHON KERNEL','',tmpfile,flags=re.DOTALL)\n",
    "\n",
    "### Replace relative links with the appropriate edX links\n",
    "tmpfile = re.sub(r'src=\"../../JS/Macro_t1.0.js\"','src=\"/c4x/DavidsonCollege/DAP002/asset/Macro_t1.0.js\"',tmpfile,flags=re.DOTALL)\n",
    "tmpfile = re.sub(r'src=\"MMMLC4_Activity2_t1.0.js\"','src=\"/c4x/DavidsonCollege/DAP002/asset/MMMLC4_Activity2_t1.0.js\"',tmpfile,flags=re.DOTALL)\n",
    "tmpfile = re.sub(r'href=\"MMMLC4_Activity2_t1.0.css\"','src=\"/c4x/DavidsonCollege/DAP002/asset/MMMLC4_Activity2_t1.0.css\"',tmpfile,flags=re.DOTALL)\n",
    "\n",
    "### Would be cool if it just took the title of the notebook\n",
    "html_filename = 'MMMLC4_Activity2_t1.0' + '.html'\n",
    "\n",
    "with open(html_filename,'w') as hfile:\n",
    "    hfile.write(tmpfile)\n",
    "print tmpfile"
   ]
  },
  {
   "cell_type": "code",
   "execution_count": null,
   "metadata": {
    "collapsed": true
   },
   "outputs": [],
   "source": []
  }
 ],
 "metadata": {
  "kernelspec": {
   "display_name": "Python 2",
   "language": "python",
   "name": "python2"
  },
  "language_info": {
   "codemirror_mode": {
    "name": "ipython",
    "version": 2
   },
   "file_extension": ".py",
   "mimetype": "text/x-python",
   "name": "python",
   "nbconvert_exporter": "python",
   "pygments_lexer": "ipython2",
   "version": "2.7.3"
  }
 },
 "nbformat": 4,
 "nbformat_minor": 0
}
